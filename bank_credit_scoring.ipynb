{
 "cells": [
  {
   "cell_type": "markdown",
   "metadata": {},
   "source": [
    "# Исследование надёжности заёмщиков банка"
   ]
  },
  {
   "cell_type": "markdown",
   "metadata": {},
   "source": [
    "## План проекта:\n",
    "### Общая информация о проекте:\n",
    " 1. [Описание проекта](#1)\n",
    " 2. [Описание данных](#2)\n",
    " ---\n",
    "### 1. [Изучение данных](#3)\n",
    "---\n",
    "### 2. [Предобработка данных](#4)\n",
    "- [Изучение пропусков в данных](#5)\n",
    "- [Изменение типов данных](#6)\n",
    "- [Проверка на дубликаты, обработка дубликатов](#7)\n",
    "---\n",
    "### 3. [Исследовательский анализ данных](#8)\n",
    "- [Изучение целей получения кредитов. Лемматизация](#9)\n",
    "- [Категоризация данных](#10)\n",
    "\n",
    "### 5. [Влияние признаков на целевое событие](#11)\n",
    "- [Влияние семейного положения клиента на возврат кредита в срок](#12)\n",
    "- [Влияние уровня дохода на возврат кредита в срок](#13)\n",
    "- [Влияние целей получения займа на возврат кредита в срок ](#14)\n",
    "\n",
    "### 6. [Общий вывод и рекомендации](#15)"
   ]
  },
  {
   "cell_type": "markdown",
   "metadata": {},
   "source": [
    "# Описание проекта <a id='1'></a>"
   ]
  },
  {
   "cell_type": "markdown",
   "metadata": {},
   "source": [
    "Заказчик исследования - кредитный отдел банка. Необходимо исследовать предоставленную банком статистику платежёспособности клиентов и выяснить, как разные факторы влияют на возврат кредита в срок. Результаты исследования будут учтены при построении модели **кредитного скоринга**.\n"
   ]
  },
  {
   "cell_type": "markdown",
   "metadata": {},
   "source": [
    "# Описание данных<a id='2'></a>"
   ]
  },
  {
   "cell_type": "markdown",
   "metadata": {},
   "source": [
    "-\tchildren — количество детей в семье\n",
    "-\tdays_employed — общий трудовой стаж в днях\n",
    "-\tdob_years — возраст клиента в годах\n",
    "-\teducation — уровень образования клиента\n",
    "-\teducation_id — идентификатор уровня образования\n",
    "-\tfamily_status — семейное положение\n",
    "-\tfamily_status_id — идентификатор семейного положения\n",
    "-\tgender — пол клиента\n",
    "-\tincome_type — тип занятости\n",
    "-\tdebt — имел ли задолженность по возврату кредитов\n",
    "-\ttotal_income — ежемесячный доход\n",
    "-\tpurpose — цель получения кредита"
   ]
  },
  {
   "cell_type": "markdown",
   "metadata": {},
   "source": [
    "# 1. Изучение данных<a id='3'></a>"
   ]
  },
  {
   "cell_type": "code",
   "execution_count": 1,
   "metadata": {},
   "outputs": [
    {
     "name": "stdout",
     "output_type": "stream",
     "text": [
      "<class 'pandas.core.frame.DataFrame'>\n",
      "RangeIndex: 21525 entries, 0 to 21524\n",
      "Data columns (total 12 columns):\n",
      "children            21525 non-null int64\n",
      "days_employed       19351 non-null float64\n",
      "dob_years           21525 non-null int64\n",
      "education           21525 non-null object\n",
      "education_id        21525 non-null int64\n",
      "family_status       21525 non-null object\n",
      "family_status_id    21525 non-null int64\n",
      "gender              21525 non-null object\n",
      "income_type         21525 non-null object\n",
      "debt                21525 non-null int64\n",
      "total_income        19351 non-null float64\n",
      "purpose             21525 non-null object\n",
      "dtypes: float64(2), int64(5), object(5)\n",
      "memory usage: 2.0+ MB\n",
      "None\n"
     ]
    }
   ],
   "source": [
    "#импортируем библиотеку pandas\n",
    "import pandas as pd\n",
    "#отлючаем уведомления от Pandas\n",
    "import warnings\n",
    "warnings.filterwarnings('ignore')\n",
    "#считаем данные из предоставленного файла\n",
    "data = pd.read_csv('/datasets/data.csv')\n",
    "#посмотрим общую информацию\n",
    "print(data.info()) "
   ]
  },
  {
   "cell_type": "code",
   "execution_count": 2,
   "metadata": {},
   "outputs": [
    {
     "data": {
      "text/html": [
       "<div>\n",
       "<style scoped>\n",
       "    .dataframe tbody tr th:only-of-type {\n",
       "        vertical-align: middle;\n",
       "    }\n",
       "\n",
       "    .dataframe tbody tr th {\n",
       "        vertical-align: top;\n",
       "    }\n",
       "\n",
       "    .dataframe thead th {\n",
       "        text-align: right;\n",
       "    }\n",
       "</style>\n",
       "<table border=\"1\" class=\"dataframe\">\n",
       "  <thead>\n",
       "    <tr style=\"text-align: right;\">\n",
       "      <th></th>\n",
       "      <th>children</th>\n",
       "      <th>days_employed</th>\n",
       "      <th>dob_years</th>\n",
       "      <th>education_id</th>\n",
       "      <th>family_status_id</th>\n",
       "      <th>debt</th>\n",
       "      <th>total_income</th>\n",
       "    </tr>\n",
       "  </thead>\n",
       "  <tbody>\n",
       "    <tr>\n",
       "      <td>count</td>\n",
       "      <td>21525.000000</td>\n",
       "      <td>19351.000000</td>\n",
       "      <td>21525.000000</td>\n",
       "      <td>21525.000000</td>\n",
       "      <td>21525.000000</td>\n",
       "      <td>21525.000000</td>\n",
       "      <td>1.935100e+04</td>\n",
       "    </tr>\n",
       "    <tr>\n",
       "      <td>mean</td>\n",
       "      <td>0.538908</td>\n",
       "      <td>63046.497661</td>\n",
       "      <td>43.293380</td>\n",
       "      <td>0.817236</td>\n",
       "      <td>0.972544</td>\n",
       "      <td>0.080883</td>\n",
       "      <td>1.674223e+05</td>\n",
       "    </tr>\n",
       "    <tr>\n",
       "      <td>std</td>\n",
       "      <td>1.381587</td>\n",
       "      <td>140827.311974</td>\n",
       "      <td>12.574584</td>\n",
       "      <td>0.548138</td>\n",
       "      <td>1.420324</td>\n",
       "      <td>0.272661</td>\n",
       "      <td>1.029716e+05</td>\n",
       "    </tr>\n",
       "    <tr>\n",
       "      <td>min</td>\n",
       "      <td>-1.000000</td>\n",
       "      <td>-18388.949901</td>\n",
       "      <td>0.000000</td>\n",
       "      <td>0.000000</td>\n",
       "      <td>0.000000</td>\n",
       "      <td>0.000000</td>\n",
       "      <td>2.066726e+04</td>\n",
       "    </tr>\n",
       "    <tr>\n",
       "      <td>25%</td>\n",
       "      <td>0.000000</td>\n",
       "      <td>-2747.423625</td>\n",
       "      <td>33.000000</td>\n",
       "      <td>1.000000</td>\n",
       "      <td>0.000000</td>\n",
       "      <td>0.000000</td>\n",
       "      <td>1.030532e+05</td>\n",
       "    </tr>\n",
       "    <tr>\n",
       "      <td>50%</td>\n",
       "      <td>0.000000</td>\n",
       "      <td>-1203.369529</td>\n",
       "      <td>42.000000</td>\n",
       "      <td>1.000000</td>\n",
       "      <td>0.000000</td>\n",
       "      <td>0.000000</td>\n",
       "      <td>1.450179e+05</td>\n",
       "    </tr>\n",
       "    <tr>\n",
       "      <td>75%</td>\n",
       "      <td>1.000000</td>\n",
       "      <td>-291.095954</td>\n",
       "      <td>53.000000</td>\n",
       "      <td>1.000000</td>\n",
       "      <td>1.000000</td>\n",
       "      <td>0.000000</td>\n",
       "      <td>2.034351e+05</td>\n",
       "    </tr>\n",
       "    <tr>\n",
       "      <td>max</td>\n",
       "      <td>20.000000</td>\n",
       "      <td>401755.400475</td>\n",
       "      <td>75.000000</td>\n",
       "      <td>4.000000</td>\n",
       "      <td>4.000000</td>\n",
       "      <td>1.000000</td>\n",
       "      <td>2.265604e+06</td>\n",
       "    </tr>\n",
       "  </tbody>\n",
       "</table>\n",
       "</div>"
      ],
      "text/plain": [
       "           children  days_employed     dob_years  education_id  \\\n",
       "count  21525.000000   19351.000000  21525.000000  21525.000000   \n",
       "mean       0.538908   63046.497661     43.293380      0.817236   \n",
       "std        1.381587  140827.311974     12.574584      0.548138   \n",
       "min       -1.000000  -18388.949901      0.000000      0.000000   \n",
       "25%        0.000000   -2747.423625     33.000000      1.000000   \n",
       "50%        0.000000   -1203.369529     42.000000      1.000000   \n",
       "75%        1.000000    -291.095954     53.000000      1.000000   \n",
       "max       20.000000  401755.400475     75.000000      4.000000   \n",
       "\n",
       "       family_status_id          debt  total_income  \n",
       "count      21525.000000  21525.000000  1.935100e+04  \n",
       "mean           0.972544      0.080883  1.674223e+05  \n",
       "std            1.420324      0.272661  1.029716e+05  \n",
       "min            0.000000      0.000000  2.066726e+04  \n",
       "25%            0.000000      0.000000  1.030532e+05  \n",
       "50%            0.000000      0.000000  1.450179e+05  \n",
       "75%            1.000000      0.000000  2.034351e+05  \n",
       "max            4.000000      1.000000  2.265604e+06  "
      ]
     },
     "metadata": {},
     "output_type": "display_data"
    }
   ],
   "source": [
    "# посмотрим срез значений по каждому столбцу\n",
    "display(data.describe()) "
   ]
  },
  {
   "cell_type": "code",
   "execution_count": 3,
   "metadata": {},
   "outputs": [
    {
     "data": {
      "text/html": [
       "<div>\n",
       "<style scoped>\n",
       "    .dataframe tbody tr th:only-of-type {\n",
       "        vertical-align: middle;\n",
       "    }\n",
       "\n",
       "    .dataframe tbody tr th {\n",
       "        vertical-align: top;\n",
       "    }\n",
       "\n",
       "    .dataframe thead th {\n",
       "        text-align: right;\n",
       "    }\n",
       "</style>\n",
       "<table border=\"1\" class=\"dataframe\">\n",
       "  <thead>\n",
       "    <tr style=\"text-align: right;\">\n",
       "      <th></th>\n",
       "      <th>children</th>\n",
       "      <th>days_employed</th>\n",
       "      <th>dob_years</th>\n",
       "      <th>education</th>\n",
       "      <th>education_id</th>\n",
       "      <th>family_status</th>\n",
       "      <th>family_status_id</th>\n",
       "      <th>gender</th>\n",
       "      <th>income_type</th>\n",
       "      <th>debt</th>\n",
       "      <th>total_income</th>\n",
       "      <th>purpose</th>\n",
       "    </tr>\n",
       "  </thead>\n",
       "  <tbody>\n",
       "    <tr>\n",
       "      <td>0</td>\n",
       "      <td>1</td>\n",
       "      <td>-8437.673028</td>\n",
       "      <td>42</td>\n",
       "      <td>высшее</td>\n",
       "      <td>0</td>\n",
       "      <td>женат / замужем</td>\n",
       "      <td>0</td>\n",
       "      <td>F</td>\n",
       "      <td>сотрудник</td>\n",
       "      <td>0</td>\n",
       "      <td>253875.639453</td>\n",
       "      <td>покупка жилья</td>\n",
       "    </tr>\n",
       "    <tr>\n",
       "      <td>1</td>\n",
       "      <td>1</td>\n",
       "      <td>-4024.803754</td>\n",
       "      <td>36</td>\n",
       "      <td>среднее</td>\n",
       "      <td>1</td>\n",
       "      <td>женат / замужем</td>\n",
       "      <td>0</td>\n",
       "      <td>F</td>\n",
       "      <td>сотрудник</td>\n",
       "      <td>0</td>\n",
       "      <td>112080.014102</td>\n",
       "      <td>приобретение автомобиля</td>\n",
       "    </tr>\n",
       "    <tr>\n",
       "      <td>2</td>\n",
       "      <td>0</td>\n",
       "      <td>-5623.422610</td>\n",
       "      <td>33</td>\n",
       "      <td>Среднее</td>\n",
       "      <td>1</td>\n",
       "      <td>женат / замужем</td>\n",
       "      <td>0</td>\n",
       "      <td>M</td>\n",
       "      <td>сотрудник</td>\n",
       "      <td>0</td>\n",
       "      <td>145885.952297</td>\n",
       "      <td>покупка жилья</td>\n",
       "    </tr>\n",
       "    <tr>\n",
       "      <td>3</td>\n",
       "      <td>3</td>\n",
       "      <td>-4124.747207</td>\n",
       "      <td>32</td>\n",
       "      <td>среднее</td>\n",
       "      <td>1</td>\n",
       "      <td>женат / замужем</td>\n",
       "      <td>0</td>\n",
       "      <td>M</td>\n",
       "      <td>сотрудник</td>\n",
       "      <td>0</td>\n",
       "      <td>267628.550329</td>\n",
       "      <td>дополнительное образование</td>\n",
       "    </tr>\n",
       "    <tr>\n",
       "      <td>4</td>\n",
       "      <td>0</td>\n",
       "      <td>340266.072047</td>\n",
       "      <td>53</td>\n",
       "      <td>среднее</td>\n",
       "      <td>1</td>\n",
       "      <td>гражданский брак</td>\n",
       "      <td>1</td>\n",
       "      <td>F</td>\n",
       "      <td>пенсионер</td>\n",
       "      <td>0</td>\n",
       "      <td>158616.077870</td>\n",
       "      <td>сыграть свадьбу</td>\n",
       "    </tr>\n",
       "  </tbody>\n",
       "</table>\n",
       "</div>"
      ],
      "text/plain": [
       "   children  days_employed  dob_years education  education_id  \\\n",
       "0         1   -8437.673028         42    высшее             0   \n",
       "1         1   -4024.803754         36   среднее             1   \n",
       "2         0   -5623.422610         33   Среднее             1   \n",
       "3         3   -4124.747207         32   среднее             1   \n",
       "4         0  340266.072047         53   среднее             1   \n",
       "\n",
       "      family_status  family_status_id gender income_type  debt   total_income  \\\n",
       "0   женат / замужем                 0      F   сотрудник     0  253875.639453   \n",
       "1   женат / замужем                 0      F   сотрудник     0  112080.014102   \n",
       "2   женат / замужем                 0      M   сотрудник     0  145885.952297   \n",
       "3   женат / замужем                 0      M   сотрудник     0  267628.550329   \n",
       "4  гражданский брак                 1      F   пенсионер     0  158616.077870   \n",
       "\n",
       "                      purpose  \n",
       "0               покупка жилья  \n",
       "1     приобретение автомобиля  \n",
       "2               покупка жилья  \n",
       "3  дополнительное образование  \n",
       "4             сыграть свадьбу  "
      ]
     },
     "metadata": {},
     "output_type": "display_data"
    }
   ],
   "source": [
    "# посмотрим первые строки таблицы\n",
    "display(data.head()) "
   ]
  },
  {
   "cell_type": "markdown",
   "metadata": {},
   "source": [
    "### Вывод"
   ]
  },
  {
   "cell_type": "markdown",
   "metadata": {},
   "source": [
    "В предоставленной таблице с данными 12 столбцов и 21525 строк, три типа данных. Названия столбцов однотипные и соответствуют содержанию. Есть пропуски в столбцах 'days_employed' и 'total_income'. В столбцах 'children' и 'days_employed' имеются отрицательные значения, которые, скорее всего, являются технической\n",
    "ошибкой при заполнении или обработке данных."
   ]
  },
  {
   "cell_type": "markdown",
   "metadata": {},
   "source": [
    "# 2. Предобработка данных <a id='4'></a>"
   ]
  },
  {
   "cell_type": "markdown",
   "metadata": {},
   "source": [
    "## Изучение пропусков в данных <a id='5'></a>"
   ]
  },
  {
   "cell_type": "markdown",
   "metadata": {},
   "source": [
    "В ходе изучения таблицы пропущенные значения были найдены в столбцах 'days_employed' и 'total_income'. Столбец 'days_employed' не влияет на ход исследования, поэтому просто заполним пропуски медианным значением данного столбца. Столбец 'total_income'потребуется для дальнейшей работы с данными, поэтому сначала сгруппируем данные по столбцу 'income_type', в каждой группе посчитаем медиану и только потом заполним пропуски."
   ]
  },
  {
   "cell_type": "markdown",
   "metadata": {},
   "source": [
    "Возможными причинами пропуска в данных могут быть: \n",
    "1. техническая ошибка при заполнении или обработке анкеты (данные, например, могли не сохраниться)  \n",
    "2. намеренное / ненамеренное сокрытие информации клиентами банка (могли просто не помнить на момент заполнения или иметь проблемы с налоговой, черная зарплата)  \n",
    "3. прочие факторы (не хватило времени для заполнения анкеты, невнимательность и др.)"
   ]
  },
  {
   "cell_type": "code",
   "execution_count": 4,
   "metadata": {},
   "outputs": [
    {
     "name": "stdout",
     "output_type": "stream",
     "text": [
      "[ 1  0  3  2 -1  4 20  5]\n",
      " 0     14149\n",
      " 1      4818\n",
      " 2      2055\n",
      " 3       330\n",
      " 20       76\n",
      "-1        47\n",
      " 4        41\n",
      " 5         9\n",
      "Name: children, dtype: int64\n"
     ]
    }
   ],
   "source": [
    "#проверим уникальные значения столбца 'children'\n",
    "print(data['children'].unique())\n",
    "print(data['children'].value_counts())"
   ]
  },
  {
   "cell_type": "markdown",
   "metadata": {},
   "source": [
    "В столбце 'children' встречается 47 отрицательных значений - это похоже на техническую ошибку, поскольку при ручном вводе данных более вероятно ошибиться в самом значении, чем в его знаке. Также возможно анкету заполняли люди, негативно относяящиеся к наличию детей в семье, и \"-1\" выражает их позицию.\n",
    "В любом случае эти данные лучше удалить, поскольку трудно предположить, что именно имеется ввиду под \"-1\" и каким значением это следует заменить."
   ]
  },
  {
   "cell_type": "code",
   "execution_count": 5,
   "metadata": {},
   "outputs": [],
   "source": [
    "#удаляем строки с отрицательными значениями\n",
    "df = data[data['children'] >= 0]\n",
    "#тестово удаляла отрицательные значения из столбца 'days_employed'\n",
    "#df = df[df['days_employed'] >= 0]\n",
    "#сразу сбросим индексы после удаления строк\n",
    "df.reset_index(inplace = True)"
   ]
  },
  {
   "cell_type": "markdown",
   "metadata": {},
   "source": [
    "Также в столбце 'children' есть клиенты, у которых 20 детей. Данное значение выглядит неправдоподобно, поскольку вряд ли в такую небольшую выборку клиентов могли попасть сразу 76 клиентов с 20 детьми. Здесь более вероятна техническая ошибка при обработке либо невнимательность при заполнении - к исходному числу вписался ноль. Заменим значение \"20\" на \"2\"."
   ]
  },
  {
   "cell_type": "code",
   "execution_count": 6,
   "metadata": {},
   "outputs": [],
   "source": [
    "#заменяем значения \"20\" в столбце 'children' на \"2\"\n",
    "df.loc[df['children'] ==20,'children'] = 2"
   ]
  },
  {
   "cell_type": "code",
   "execution_count": 7,
   "metadata": {},
   "outputs": [
    {
     "name": "stdout",
     "output_type": "stream",
     "text": [
      "[1 0 3 2 4 5]\n",
      "0    14149\n",
      "1     4818\n",
      "2     2131\n",
      "3      330\n",
      "4       41\n",
      "5        9\n",
      "Name: children, dtype: int64\n"
     ]
    }
   ],
   "source": [
    "#проверим уникальные значения столбца 'children' после удаления строк и изменения значений\n",
    "print(df['children'].unique())\n",
    "print(df['children'].value_counts())"
   ]
  },
  {
   "cell_type": "code",
   "execution_count": 8,
   "metadata": {},
   "outputs": [
    {
     "name": "stdout",
     "output_type": "stream",
     "text": [
      "<class 'pandas.core.frame.DataFrame'>\n",
      "RangeIndex: 21478 entries, 0 to 21477\n",
      "Data columns (total 13 columns):\n",
      "index               21478 non-null int64\n",
      "children            21478 non-null int64\n",
      "days_employed       19307 non-null float64\n",
      "dob_years           21478 non-null int64\n",
      "education           21478 non-null object\n",
      "education_id        21478 non-null int64\n",
      "family_status       21478 non-null object\n",
      "family_status_id    21478 non-null int64\n",
      "gender              21478 non-null object\n",
      "income_type         21478 non-null object\n",
      "debt                21478 non-null int64\n",
      "total_income        19307 non-null float64\n",
      "purpose             21478 non-null object\n",
      "dtypes: float64(2), int64(6), object(5)\n",
      "memory usage: 2.1+ MB\n",
      "None\n",
      "(21478, 13)\n"
     ]
    }
   ],
   "source": [
    "#посмотрим на информацию о таблице после удаления строк\n",
    "print(df.info()) \n",
    "print(df.shape) "
   ]
  },
  {
   "cell_type": "code",
   "execution_count": 9,
   "metadata": {},
   "outputs": [
    {
     "data": {
      "text/html": [
       "<div>\n",
       "<style scoped>\n",
       "    .dataframe tbody tr th:only-of-type {\n",
       "        vertical-align: middle;\n",
       "    }\n",
       "\n",
       "    .dataframe tbody tr th {\n",
       "        vertical-align: top;\n",
       "    }\n",
       "\n",
       "    .dataframe thead th {\n",
       "        text-align: right;\n",
       "    }\n",
       "</style>\n",
       "<table border=\"1\" class=\"dataframe\">\n",
       "  <thead>\n",
       "    <tr style=\"text-align: right;\">\n",
       "      <th></th>\n",
       "      <th>income_type</th>\n",
       "      <th>total_income</th>\n",
       "    </tr>\n",
       "  </thead>\n",
       "  <tbody>\n",
       "    <tr>\n",
       "      <td>0</td>\n",
       "      <td>сотрудник</td>\n",
       "      <td>253875.639453</td>\n",
       "    </tr>\n",
       "    <tr>\n",
       "      <td>1</td>\n",
       "      <td>сотрудник</td>\n",
       "      <td>112080.014102</td>\n",
       "    </tr>\n",
       "    <tr>\n",
       "      <td>2</td>\n",
       "      <td>сотрудник</td>\n",
       "      <td>145885.952297</td>\n",
       "    </tr>\n",
       "    <tr>\n",
       "      <td>3</td>\n",
       "      <td>сотрудник</td>\n",
       "      <td>267628.550329</td>\n",
       "    </tr>\n",
       "    <tr>\n",
       "      <td>4</td>\n",
       "      <td>пенсионер</td>\n",
       "      <td>158616.077870</td>\n",
       "    </tr>\n",
       "    <tr>\n",
       "      <td>5</td>\n",
       "      <td>компаньон</td>\n",
       "      <td>255763.565419</td>\n",
       "    </tr>\n",
       "    <tr>\n",
       "      <td>6</td>\n",
       "      <td>компаньон</td>\n",
       "      <td>240525.971920</td>\n",
       "    </tr>\n",
       "    <tr>\n",
       "      <td>7</td>\n",
       "      <td>сотрудник</td>\n",
       "      <td>135823.934197</td>\n",
       "    </tr>\n",
       "    <tr>\n",
       "      <td>8</td>\n",
       "      <td>сотрудник</td>\n",
       "      <td>95856.832424</td>\n",
       "    </tr>\n",
       "    <tr>\n",
       "      <td>9</td>\n",
       "      <td>сотрудник</td>\n",
       "      <td>144425.938277</td>\n",
       "    </tr>\n",
       "    <tr>\n",
       "      <td>10</td>\n",
       "      <td>компаньон</td>\n",
       "      <td>113943.491460</td>\n",
       "    </tr>\n",
       "    <tr>\n",
       "      <td>11</td>\n",
       "      <td>сотрудник</td>\n",
       "      <td>77069.234271</td>\n",
       "    </tr>\n",
       "    <tr>\n",
       "      <td>12</td>\n",
       "      <td>пенсионер</td>\n",
       "      <td>NaN</td>\n",
       "    </tr>\n",
       "    <tr>\n",
       "      <td>13</td>\n",
       "      <td>сотрудник</td>\n",
       "      <td>130458.228857</td>\n",
       "    </tr>\n",
       "    <tr>\n",
       "      <td>14</td>\n",
       "      <td>компаньон</td>\n",
       "      <td>165127.911772</td>\n",
       "    </tr>\n",
       "  </tbody>\n",
       "</table>\n",
       "</div>"
      ],
      "text/plain": [
       "   income_type   total_income\n",
       "0    сотрудник  253875.639453\n",
       "1    сотрудник  112080.014102\n",
       "2    сотрудник  145885.952297\n",
       "3    сотрудник  267628.550329\n",
       "4    пенсионер  158616.077870\n",
       "5    компаньон  255763.565419\n",
       "6    компаньон  240525.971920\n",
       "7    сотрудник  135823.934197\n",
       "8    сотрудник   95856.832424\n",
       "9    сотрудник  144425.938277\n",
       "10   компаньон  113943.491460\n",
       "11   сотрудник   77069.234271\n",
       "12   пенсионер            NaN\n",
       "13   сотрудник  130458.228857\n",
       "14   компаньон  165127.911772"
      ]
     },
     "metadata": {},
     "output_type": "display_data"
    }
   ],
   "source": [
    "#посмотрим первые 15 строк таблицы,особое внимание обратим на столбцы 'days_employed' и' total_income', в которых есть пропуски\n",
    "display(df[['income_type','total_income']].head(15))"
   ]
  },
  {
   "cell_type": "code",
   "execution_count": 10,
   "metadata": {},
   "outputs": [
    {
     "name": "stdout",
     "output_type": "stream",
     "text": [
      "2171\n"
     ]
    }
   ],
   "source": [
    "#столбец 'days_employed' не будет использоваться для анализа данных в ходе выявления закономерностей\n",
    "#проверим количество строк с пропущенными значениями в столбце 'days_employed'\n",
    "print(df['days_employed'].isnull().sum())"
   ]
  },
  {
   "cell_type": "code",
   "execution_count": 11,
   "metadata": {},
   "outputs": [],
   "source": [
    "#посчитаем медиану столбца 'days_employed' для всех положительных значений и присвоим ее значение пропущенным записям\n",
    "df_1 = df[df['days_employed']>=0]\n",
    "median_days_employed = df_1['days_employed'].median() \n",
    "#заполним пропуски в 'days_employed' значением медианы\n",
    "df['days_employed'] = df['days_employed'].fillna(median_days_employed)"
   ]
  },
  {
   "cell_type": "code",
   "execution_count": 12,
   "metadata": {},
   "outputs": [
    {
     "name": "stdout",
     "output_type": "stream",
     "text": [
      "0\n"
     ]
    }
   ],
   "source": [
    "#убедимся, что пропущенных значений в столбце 'days_employed' нет\n",
    "print(df['days_employed'].isnull().sum())"
   ]
  },
  {
   "cell_type": "code",
   "execution_count": 13,
   "metadata": {},
   "outputs": [
    {
     "name": "stdout",
     "output_type": "stream",
     "text": [
      "2171\n"
     ]
    }
   ],
   "source": [
    "#теперь проверим количество строк с пропущенными значениями в столбце 'total_income'\n",
    "print(df['total_income'].isnull().sum())"
   ]
  },
  {
   "cell_type": "code",
   "execution_count": 14,
   "metadata": {},
   "outputs": [
    {
     "name": "stdout",
     "output_type": "stream",
     "text": [
      "['сотрудник' 'пенсионер' 'компаньон' 'госслужащий' 'безработный'\n",
      " 'предприниматель' 'студент' 'в декрете']\n"
     ]
    }
   ],
   "source": [
    "#чтобы заполнить пропуски в 'total_income', подсчитаем медиану по данному столбцу для каждой группы в 'income_type' \n",
    "#сначала посмотрим какие уникальные значения существуют в столбце 'income_type' \n",
    "print(df['income_type' ].unique())"
   ]
  },
  {
   "cell_type": "code",
   "execution_count": 15,
   "metadata": {},
   "outputs": [
    {
     "name": "stdout",
     "output_type": "stream",
     "text": [
      "0          сотрудник\n",
      "1          пенсионер\n",
      "2          компаньон\n",
      "3        госслужащий\n",
      "4        безработный\n",
      "5    предприниматель\n",
      "6            студент\n",
      "7          в декрете\n",
      "Name: income_type, dtype: object\n"
     ]
    }
   ],
   "source": [
    "#соберем уникальные значения 'income_type' в словарь \n",
    "income_type_dict = df['income_type']\n",
    "#удалим дубликаты строк\n",
    "income_type_dict = income_type_dict.drop_duplicates().reset_index(drop=True)\n",
    "print(income_type_dict)"
   ]
  },
  {
   "cell_type": "code",
   "execution_count": 16,
   "metadata": {
    "scrolled": true
   },
   "outputs": [
    {
     "data": {
      "text/html": [
       "<div>\n",
       "<style scoped>\n",
       "    .dataframe tbody tr th:only-of-type {\n",
       "        vertical-align: middle;\n",
       "    }\n",
       "\n",
       "    .dataframe tbody tr th {\n",
       "        vertical-align: top;\n",
       "    }\n",
       "\n",
       "    .dataframe thead th {\n",
       "        text-align: right;\n",
       "    }\n",
       "</style>\n",
       "<table border=\"1\" class=\"dataframe\">\n",
       "  <thead>\n",
       "    <tr style=\"text-align: right;\">\n",
       "      <th></th>\n",
       "      <th>index</th>\n",
       "      <th>children</th>\n",
       "      <th>days_employed</th>\n",
       "      <th>dob_years</th>\n",
       "      <th>education</th>\n",
       "      <th>education_id</th>\n",
       "      <th>family_status</th>\n",
       "      <th>family_status_id</th>\n",
       "      <th>gender</th>\n",
       "      <th>income_type</th>\n",
       "      <th>debt</th>\n",
       "      <th>total_income</th>\n",
       "      <th>purpose</th>\n",
       "    </tr>\n",
       "  </thead>\n",
       "  <tbody>\n",
       "    <tr>\n",
       "      <td>0</td>\n",
       "      <td>0</td>\n",
       "      <td>1</td>\n",
       "      <td>-8437.673028</td>\n",
       "      <td>42</td>\n",
       "      <td>высшее</td>\n",
       "      <td>0</td>\n",
       "      <td>женат / замужем</td>\n",
       "      <td>0</td>\n",
       "      <td>F</td>\n",
       "      <td>сотрудник</td>\n",
       "      <td>0</td>\n",
       "      <td>253875.639453</td>\n",
       "      <td>покупка жилья</td>\n",
       "    </tr>\n",
       "    <tr>\n",
       "      <td>1</td>\n",
       "      <td>1</td>\n",
       "      <td>1</td>\n",
       "      <td>-4024.803754</td>\n",
       "      <td>36</td>\n",
       "      <td>среднее</td>\n",
       "      <td>1</td>\n",
       "      <td>женат / замужем</td>\n",
       "      <td>0</td>\n",
       "      <td>F</td>\n",
       "      <td>сотрудник</td>\n",
       "      <td>0</td>\n",
       "      <td>112080.014102</td>\n",
       "      <td>приобретение автомобиля</td>\n",
       "    </tr>\n",
       "    <tr>\n",
       "      <td>2</td>\n",
       "      <td>2</td>\n",
       "      <td>0</td>\n",
       "      <td>-5623.422610</td>\n",
       "      <td>33</td>\n",
       "      <td>Среднее</td>\n",
       "      <td>1</td>\n",
       "      <td>женат / замужем</td>\n",
       "      <td>0</td>\n",
       "      <td>M</td>\n",
       "      <td>сотрудник</td>\n",
       "      <td>0</td>\n",
       "      <td>145885.952297</td>\n",
       "      <td>покупка жилья</td>\n",
       "    </tr>\n",
       "    <tr>\n",
       "      <td>3</td>\n",
       "      <td>3</td>\n",
       "      <td>3</td>\n",
       "      <td>-4124.747207</td>\n",
       "      <td>32</td>\n",
       "      <td>среднее</td>\n",
       "      <td>1</td>\n",
       "      <td>женат / замужем</td>\n",
       "      <td>0</td>\n",
       "      <td>M</td>\n",
       "      <td>сотрудник</td>\n",
       "      <td>0</td>\n",
       "      <td>267628.550329</td>\n",
       "      <td>дополнительное образование</td>\n",
       "    </tr>\n",
       "    <tr>\n",
       "      <td>4</td>\n",
       "      <td>4</td>\n",
       "      <td>0</td>\n",
       "      <td>340266.072047</td>\n",
       "      <td>53</td>\n",
       "      <td>среднее</td>\n",
       "      <td>1</td>\n",
       "      <td>гражданский брак</td>\n",
       "      <td>1</td>\n",
       "      <td>F</td>\n",
       "      <td>пенсионер</td>\n",
       "      <td>0</td>\n",
       "      <td>158616.077870</td>\n",
       "      <td>сыграть свадьбу</td>\n",
       "    </tr>\n",
       "    <tr>\n",
       "      <td>5</td>\n",
       "      <td>5</td>\n",
       "      <td>0</td>\n",
       "      <td>-926.185831</td>\n",
       "      <td>27</td>\n",
       "      <td>высшее</td>\n",
       "      <td>0</td>\n",
       "      <td>гражданский брак</td>\n",
       "      <td>1</td>\n",
       "      <td>M</td>\n",
       "      <td>компаньон</td>\n",
       "      <td>0</td>\n",
       "      <td>255763.565419</td>\n",
       "      <td>покупка жилья</td>\n",
       "    </tr>\n",
       "    <tr>\n",
       "      <td>6</td>\n",
       "      <td>6</td>\n",
       "      <td>0</td>\n",
       "      <td>-2879.202052</td>\n",
       "      <td>43</td>\n",
       "      <td>высшее</td>\n",
       "      <td>0</td>\n",
       "      <td>женат / замужем</td>\n",
       "      <td>0</td>\n",
       "      <td>F</td>\n",
       "      <td>компаньон</td>\n",
       "      <td>0</td>\n",
       "      <td>240525.971920</td>\n",
       "      <td>операции с жильем</td>\n",
       "    </tr>\n",
       "    <tr>\n",
       "      <td>7</td>\n",
       "      <td>7</td>\n",
       "      <td>0</td>\n",
       "      <td>-152.779569</td>\n",
       "      <td>50</td>\n",
       "      <td>СРЕДНЕЕ</td>\n",
       "      <td>1</td>\n",
       "      <td>женат / замужем</td>\n",
       "      <td>0</td>\n",
       "      <td>M</td>\n",
       "      <td>сотрудник</td>\n",
       "      <td>0</td>\n",
       "      <td>135823.934197</td>\n",
       "      <td>образование</td>\n",
       "    </tr>\n",
       "    <tr>\n",
       "      <td>8</td>\n",
       "      <td>8</td>\n",
       "      <td>2</td>\n",
       "      <td>-6929.865299</td>\n",
       "      <td>35</td>\n",
       "      <td>ВЫСШЕЕ</td>\n",
       "      <td>0</td>\n",
       "      <td>гражданский брак</td>\n",
       "      <td>1</td>\n",
       "      <td>F</td>\n",
       "      <td>сотрудник</td>\n",
       "      <td>0</td>\n",
       "      <td>95856.832424</td>\n",
       "      <td>на проведение свадьбы</td>\n",
       "    </tr>\n",
       "    <tr>\n",
       "      <td>9</td>\n",
       "      <td>9</td>\n",
       "      <td>0</td>\n",
       "      <td>-2188.756445</td>\n",
       "      <td>41</td>\n",
       "      <td>среднее</td>\n",
       "      <td>1</td>\n",
       "      <td>женат / замужем</td>\n",
       "      <td>0</td>\n",
       "      <td>M</td>\n",
       "      <td>сотрудник</td>\n",
       "      <td>0</td>\n",
       "      <td>144425.938277</td>\n",
       "      <td>покупка жилья для семьи</td>\n",
       "    </tr>\n",
       "    <tr>\n",
       "      <td>10</td>\n",
       "      <td>10</td>\n",
       "      <td>2</td>\n",
       "      <td>-4171.483647</td>\n",
       "      <td>36</td>\n",
       "      <td>высшее</td>\n",
       "      <td>0</td>\n",
       "      <td>женат / замужем</td>\n",
       "      <td>0</td>\n",
       "      <td>M</td>\n",
       "      <td>компаньон</td>\n",
       "      <td>0</td>\n",
       "      <td>113943.491460</td>\n",
       "      <td>покупка недвижимости</td>\n",
       "    </tr>\n",
       "    <tr>\n",
       "      <td>11</td>\n",
       "      <td>11</td>\n",
       "      <td>0</td>\n",
       "      <td>-792.701887</td>\n",
       "      <td>40</td>\n",
       "      <td>среднее</td>\n",
       "      <td>1</td>\n",
       "      <td>женат / замужем</td>\n",
       "      <td>0</td>\n",
       "      <td>F</td>\n",
       "      <td>сотрудник</td>\n",
       "      <td>0</td>\n",
       "      <td>77069.234271</td>\n",
       "      <td>покупка коммерческой недвижимости</td>\n",
       "    </tr>\n",
       "    <tr>\n",
       "      <td>12</td>\n",
       "      <td>12</td>\n",
       "      <td>0</td>\n",
       "      <td>365249.346345</td>\n",
       "      <td>65</td>\n",
       "      <td>среднее</td>\n",
       "      <td>1</td>\n",
       "      <td>гражданский брак</td>\n",
       "      <td>1</td>\n",
       "      <td>M</td>\n",
       "      <td>пенсионер</td>\n",
       "      <td>0</td>\n",
       "      <td>118557.179415</td>\n",
       "      <td>сыграть свадьбу</td>\n",
       "    </tr>\n",
       "    <tr>\n",
       "      <td>13</td>\n",
       "      <td>13</td>\n",
       "      <td>0</td>\n",
       "      <td>-1846.641941</td>\n",
       "      <td>54</td>\n",
       "      <td>неоконченное высшее</td>\n",
       "      <td>2</td>\n",
       "      <td>женат / замужем</td>\n",
       "      <td>0</td>\n",
       "      <td>F</td>\n",
       "      <td>сотрудник</td>\n",
       "      <td>0</td>\n",
       "      <td>130458.228857</td>\n",
       "      <td>приобретение автомобиля</td>\n",
       "    </tr>\n",
       "    <tr>\n",
       "      <td>14</td>\n",
       "      <td>14</td>\n",
       "      <td>0</td>\n",
       "      <td>-1844.956182</td>\n",
       "      <td>56</td>\n",
       "      <td>высшее</td>\n",
       "      <td>0</td>\n",
       "      <td>гражданский брак</td>\n",
       "      <td>1</td>\n",
       "      <td>F</td>\n",
       "      <td>компаньон</td>\n",
       "      <td>1</td>\n",
       "      <td>165127.911772</td>\n",
       "      <td>покупка жилой недвижимости</td>\n",
       "    </tr>\n",
       "  </tbody>\n",
       "</table>\n",
       "</div>"
      ],
      "text/plain": [
       "    index  children  days_employed  dob_years            education  \\\n",
       "0       0         1   -8437.673028         42               высшее   \n",
       "1       1         1   -4024.803754         36              среднее   \n",
       "2       2         0   -5623.422610         33              Среднее   \n",
       "3       3         3   -4124.747207         32              среднее   \n",
       "4       4         0  340266.072047         53              среднее   \n",
       "5       5         0    -926.185831         27               высшее   \n",
       "6       6         0   -2879.202052         43               высшее   \n",
       "7       7         0    -152.779569         50              СРЕДНЕЕ   \n",
       "8       8         2   -6929.865299         35               ВЫСШЕЕ   \n",
       "9       9         0   -2188.756445         41              среднее   \n",
       "10     10         2   -4171.483647         36               высшее   \n",
       "11     11         0    -792.701887         40              среднее   \n",
       "12     12         0  365249.346345         65              среднее   \n",
       "13     13         0   -1846.641941         54  неоконченное высшее   \n",
       "14     14         0   -1844.956182         56               высшее   \n",
       "\n",
       "    education_id     family_status  family_status_id gender income_type  debt  \\\n",
       "0              0   женат / замужем                 0      F   сотрудник     0   \n",
       "1              1   женат / замужем                 0      F   сотрудник     0   \n",
       "2              1   женат / замужем                 0      M   сотрудник     0   \n",
       "3              1   женат / замужем                 0      M   сотрудник     0   \n",
       "4              1  гражданский брак                 1      F   пенсионер     0   \n",
       "5              0  гражданский брак                 1      M   компаньон     0   \n",
       "6              0   женат / замужем                 0      F   компаньон     0   \n",
       "7              1   женат / замужем                 0      M   сотрудник     0   \n",
       "8              0  гражданский брак                 1      F   сотрудник     0   \n",
       "9              1   женат / замужем                 0      M   сотрудник     0   \n",
       "10             0   женат / замужем                 0      M   компаньон     0   \n",
       "11             1   женат / замужем                 0      F   сотрудник     0   \n",
       "12             1  гражданский брак                 1      M   пенсионер     0   \n",
       "13             2   женат / замужем                 0      F   сотрудник     0   \n",
       "14             0  гражданский брак                 1      F   компаньон     1   \n",
       "\n",
       "     total_income                            purpose  \n",
       "0   253875.639453                      покупка жилья  \n",
       "1   112080.014102            приобретение автомобиля  \n",
       "2   145885.952297                      покупка жилья  \n",
       "3   267628.550329         дополнительное образование  \n",
       "4   158616.077870                    сыграть свадьбу  \n",
       "5   255763.565419                      покупка жилья  \n",
       "6   240525.971920                  операции с жильем  \n",
       "7   135823.934197                        образование  \n",
       "8    95856.832424              на проведение свадьбы  \n",
       "9   144425.938277            покупка жилья для семьи  \n",
       "10  113943.491460               покупка недвижимости  \n",
       "11   77069.234271  покупка коммерческой недвижимости  \n",
       "12  118557.179415                    сыграть свадьбу  \n",
       "13  130458.228857            приобретение автомобиля  \n",
       "14  165127.911772         покупка жилой недвижимости  "
      ]
     },
     "metadata": {},
     "output_type": "display_data"
    }
   ],
   "source": [
    "#напишем функцию, которая будет принимать датафрейм и две колонки\n",
    "#по первой колонке будет происходить группировка, по второй колонке - замена пропусков\n",
    "#для перебора значений по первой колонке будем использовать созданный словарь\n",
    "def median_total_income(data, column1, column2):\n",
    "    #используем ранее созданный словарь income_type_dict, чтобы перебрать значения 'income_type'\n",
    "        for key in income_type_dict:\n",
    "            #отфильтруем таблицу\n",
    "            filt2 = data[data[column1] == key]\n",
    "            #группируем и считаем медиану\n",
    "            filt3 = filt2.groupby('income_type').median()[['total_income']]\n",
    "            #вытаскиваем значение медианы в локальную переменную\n",
    "            total_median = filt3.iloc[0, 0]\n",
    "            #заполняем пропуски\n",
    "            data.loc[(data['income_type'] == key) & (data['total_income'].isna()), 'total_income'] = total_median     \n",
    "            \n",
    "#вызываем метод median_total_income(data, column1, column2), чтобы заполнить пропуски   \n",
    "median_total_income(df, 'income_type', 'total_income')\n",
    "#проверяем, что пропуск заполнил пропущенные значения - 12 строка\n",
    "display(df.head(15))    "
   ]
  },
  {
   "cell_type": "code",
   "execution_count": 17,
   "metadata": {},
   "outputs": [
    {
     "name": "stdout",
     "output_type": "stream",
     "text": [
      "0\n"
     ]
    }
   ],
   "source": [
    "#убедимся, что пропущенных значений в столбце 'total_income' нет\n",
    "print(df['total_income'].isnull().sum())"
   ]
  },
  {
   "cell_type": "markdown",
   "metadata": {},
   "source": [
    "### Вывод"
   ]
  },
  {
   "cell_type": "markdown",
   "metadata": {},
   "source": [
    "В данном разделе были определены пропуски в столбцах 'days_employed' и 'total_income'. Пропуски были заполннены медианными значениями в 'days_employed' и медианными значениями после группировки по 'income_type' в 'total_income'. В качестве метода заполнения пропусков была выбрана медиана, поскольку удаление строк с пропусками могло бы привести к искажению результатов (2171 удаленная строчки составили бы 10.1% от данных - это много)."
   ]
  },
  {
   "cell_type": "markdown",
   "metadata": {},
   "source": [
    "Также было удалено 47 строк с отрицательным значением из столбца 'children'. В этом же столбце у части клинетов поменяли значения (значение \"20\" заменили на \"2\"). \n",
    "Столбец 'days_employed' не является важным для данного проекта, однако замечено, что если удалить все строки, где общий стаж имеет отрицательное значение, то строк в таблице останется 3438 (от 21525). Возможно, большая часть данных не валидна вследствие технической ошибки при загрузке/выгрузке. Если бы мне на работе выдали такие данные, я бы обратилась к программисту с просьбой попробовать перепроверить и перевыгрузить."
   ]
  },
  {
   "cell_type": "markdown",
   "metadata": {},
   "source": [
    "## Изменение типа данных <a id='6'></a>"
   ]
  },
  {
   "cell_type": "code",
   "execution_count": 18,
   "metadata": {},
   "outputs": [
    {
     "name": "stdout",
     "output_type": "stream",
     "text": [
      "index                 int64\n",
      "children              int64\n",
      "days_employed       float64\n",
      "dob_years             int64\n",
      "education            object\n",
      "education_id          int64\n",
      "family_status        object\n",
      "family_status_id      int64\n",
      "gender               object\n",
      "income_type          object\n",
      "debt                  int64\n",
      "total_income        float64\n",
      "purpose              object\n",
      "dtype: object\n"
     ]
    }
   ],
   "source": [
    "#обратимся к информации о типах данных в каждой колонке таблицы\n",
    "print(df.dtypes) "
   ]
  },
  {
   "cell_type": "code",
   "execution_count": 19,
   "metadata": {},
   "outputs": [
    {
     "name": "stdout",
     "output_type": "stream",
     "text": [
      "<class 'pandas.core.frame.DataFrame'>\n",
      "RangeIndex: 21478 entries, 0 to 21477\n",
      "Data columns (total 13 columns):\n",
      "index               21478 non-null int64\n",
      "children            21478 non-null int64\n",
      "days_employed       21478 non-null int64\n",
      "dob_years           21478 non-null int64\n",
      "education           21478 non-null object\n",
      "education_id        21478 non-null int64\n",
      "family_status       21478 non-null object\n",
      "family_status_id    21478 non-null int64\n",
      "gender              21478 non-null object\n",
      "income_type         21478 non-null object\n",
      "debt                21478 non-null int64\n",
      "total_income        21478 non-null int64\n",
      "purpose             21478 non-null object\n",
      "dtypes: int64(8), object(5)\n",
      "memory usage: 2.1+ MB\n",
      "None\n"
     ]
    }
   ],
   "source": [
    "#вещественный тип данных (float64) встречается в столбцах 'days_employed', 'total_income'\n",
    "#поскольку у нас численные данные, то мыможем использовать для преобразования astype()\n",
    "\n",
    "df['days_employed'] = pd.to_numeric(df['days_employed']).astype('int')\n",
    "df['total_income'] = pd.to_numeric(df['total_income']).astype('int')\n",
    "\n",
    "#проверим, что в столбцах 'days_employed', 'total_income' содержится целочисленный тип данных\n",
    "print(df.info()) "
   ]
  },
  {
   "cell_type": "markdown",
   "metadata": {},
   "source": [
    "### Вывод"
   ]
  },
  {
   "cell_type": "markdown",
   "metadata": {},
   "source": [
    "В таблице с данными в столбцах 'days_employed' и 'total_income' данные имеют вещественный тип. Поскольку вещественный тип данных (float64) уже вляется числовым и не требует использования метода to_numeric(), был выбран метод astype()."
   ]
  },
  {
   "cell_type": "markdown",
   "metadata": {},
   "source": [
    "## Проверка на дубликаты, обработка дубликатов <a id='7'></a>"
   ]
  },
  {
   "cell_type": "markdown",
   "metadata": {},
   "source": [
    "При обработке дубликатов уделим внимание столбцам. необходимым для исследования: 'children', 'family_status',  'purpose', а также столбцам с типом данных 'object': 'education', 'family_status', 'gender', 'income_type' , 'purpose'.\n",
    "Столбец 'children' содержит числа из определенного диапазона, дополнительной обработки данных не требуется."
   ]
  },
  {
   "cell_type": "markdown",
   "metadata": {},
   "source": [
    "Сначала будут выявлены и удалены дубликаты внутри указанных колонок - все значения будет переведены в нижний регистр.\n",
    "Затем будет проведен поиск полностью одинаковых строк -т  в таблице оставим только уникальные строки, \n",
    "все встречающиеся дубликаты будут удалены."
   ]
  },
  {
   "cell_type": "code",
   "execution_count": 20,
   "metadata": {},
   "outputs": [
    {
     "name": "stdout",
     "output_type": "stream",
     "text": [
      "(21478, 13)\n"
     ]
    }
   ],
   "source": [
    "#посмотрим размер таблицы до удалению строк дубликатов\n",
    "print(df.shape)"
   ]
  },
  {
   "cell_type": "code",
   "execution_count": 21,
   "metadata": {},
   "outputs": [
    {
     "name": "stdout",
     "output_type": "stream",
     "text": [
      "['F' 'M' 'XNA']\n",
      "F      14201\n",
      "M       7276\n",
      "XNA        1\n",
      "Name: gender, dtype: int64\n"
     ]
    }
   ],
   "source": [
    "#проверим уникальные значения столбца 'gender' и частоту встречаемости\n",
    "print(df['gender'].unique())\n",
    "print(df['gender'].value_counts())"
   ]
  },
  {
   "cell_type": "code",
   "execution_count": 22,
   "metadata": {},
   "outputs": [
    {
     "name": "stdout",
     "output_type": "stream",
     "text": [
      "F    14201\n",
      "M     7277\n",
      "Name: gender, dtype: int64\n"
     ]
    }
   ],
   "source": [
    "#присвоим 'XNA' значение 'M'.\n",
    "for row in data:\n",
    "        df.gender[df.gender=='XNA'] = 'M'\n",
    "        \n",
    "#убедимся, что присвоение произошло\n",
    "print(df['gender'].value_counts())"
   ]
  },
  {
   "cell_type": "code",
   "execution_count": 23,
   "metadata": {},
   "outputs": [
    {
     "name": "stdout",
     "output_type": "stream",
     "text": [
      "['высшее' 'среднее' 'Среднее' 'СРЕДНЕЕ' 'ВЫСШЕЕ' 'неоконченное высшее'\n",
      " 'начальное' 'Высшее' 'НЕОКОНЧЕННОЕ ВЫСШЕЕ' 'Неоконченное высшее'\n",
      " 'НАЧАЛЬНОЕ' 'Начальное' 'Ученая степень' 'УЧЕНАЯ СТЕПЕНЬ'\n",
      " 'ученая степень']\n"
     ]
    }
   ],
   "source": [
    "#проверим уникальные значения для столбца 'education'\n",
    "print(df['education'].unique())"
   ]
  },
  {
   "cell_type": "code",
   "execution_count": 24,
   "metadata": {},
   "outputs": [
    {
     "name": "stdout",
     "output_type": "stream",
     "text": [
      "['высшее' 'среднее' 'неоконченное высшее' 'начальное' 'ученая степень']\n"
     ]
    }
   ],
   "source": [
    "#заменим все значения на строковые\n",
    "df['education'] = df['education'].str.lower()\n",
    "#убедимся, что повторяющихся значений больше нет\n",
    "print(df['education'].unique())"
   ]
  },
  {
   "cell_type": "code",
   "execution_count": 25,
   "metadata": {},
   "outputs": [
    {
     "name": "stdout",
     "output_type": "stream",
     "text": [
      "['женат / замужем' 'гражданский брак' 'вдовец / вдова' 'в разводе'\n",
      " 'Не женат / не замужем']\n"
     ]
    }
   ],
   "source": [
    "#проверим уникальные значения для столбца 'family_status'\n",
    "print(df['family_status'].unique())"
   ]
  },
  {
   "cell_type": "code",
   "execution_count": 26,
   "metadata": {},
   "outputs": [
    {
     "name": "stdout",
     "output_type": "stream",
     "text": [
      "['женат / замужем' 'гражданский брак' 'вдовец / вдова' 'в разводе'\n",
      " 'не женат / не замужем']\n"
     ]
    }
   ],
   "source": [
    "#заменим все значения на строковые\n",
    "df['family_status'] = df['family_status'].str.lower()\n",
    "#убедимся, что все значения теперь в едином формате\n",
    "print(df['family_status'].unique())"
   ]
  },
  {
   "cell_type": "code",
   "execution_count": 27,
   "metadata": {},
   "outputs": [
    {
     "name": "stdout",
     "output_type": "stream",
     "text": [
      "['сотрудник' 'пенсионер' 'компаньон' 'госслужащий' 'безработный'\n",
      " 'предприниматель' 'студент' 'в декрете']\n"
     ]
    }
   ],
   "source": [
    "#проверим уникальные значения для столбца 'income_type'\n",
    "print(df['income_type'].unique())"
   ]
  },
  {
   "cell_type": "code",
   "execution_count": 28,
   "metadata": {},
   "outputs": [
    {
     "name": "stdout",
     "output_type": "stream",
     "text": [
      "['покупка жилья' 'приобретение автомобиля' 'дополнительное образование'\n",
      " 'сыграть свадьбу' 'операции с жильем' 'образование'\n",
      " 'на проведение свадьбы' 'покупка жилья для семьи' 'покупка недвижимости'\n",
      " 'покупка коммерческой недвижимости' 'покупка жилой недвижимости'\n",
      " 'строительство собственной недвижимости' 'недвижимость'\n",
      " 'строительство недвижимости' 'на покупку подержанного автомобиля'\n",
      " 'на покупку своего автомобиля' 'операции с коммерческой недвижимостью'\n",
      " 'строительство жилой недвижимости' 'жилье'\n",
      " 'операции со своей недвижимостью' 'автомобили' 'заняться образованием'\n",
      " 'сделка с подержанным автомобилем' 'получение образования' 'автомобиль'\n",
      " 'свадьба' 'получение дополнительного образования' 'покупка своего жилья'\n",
      " 'операции с недвижимостью' 'получение высшего образования'\n",
      " 'свой автомобиль' 'сделка с автомобилем' 'профильное образование'\n",
      " 'высшее образование' 'покупка жилья для сдачи' 'на покупку автомобиля'\n",
      " 'ремонт жилью' 'заняться высшим образованием']\n"
     ]
    }
   ],
   "source": [
    "#проверим уникальные значения для столбца 'purpose'\n",
    "print(df['purpose'].unique())"
   ]
  },
  {
   "cell_type": "code",
   "execution_count": 29,
   "metadata": {},
   "outputs": [
    {
     "name": "stdout",
     "output_type": "stream",
     "text": [
      "0\n"
     ]
    }
   ],
   "source": [
    "#посчитаем количество полных дубликатов строк\n",
    "print(df.duplicated().sum())"
   ]
  },
  {
   "cell_type": "code",
   "execution_count": 30,
   "metadata": {},
   "outputs": [
    {
     "name": "stdout",
     "output_type": "stream",
     "text": [
      "Empty DataFrame\n",
      "Columns: [index, children, days_employed, dob_years, education, education_id, family_status, family_status_id, gender, income_type, debt, total_income, purpose]\n",
      "Index: []\n"
     ]
    }
   ],
   "source": [
    "#поcмотрим на дублирущиеся строки\n",
    "print(df.loc[df.duplicated(keep='first'),:])"
   ]
  },
  {
   "cell_type": "code",
   "execution_count": 31,
   "metadata": {},
   "outputs": [
    {
     "name": "stdout",
     "output_type": "stream",
     "text": [
      "(21478, 13)\n"
     ]
    }
   ],
   "source": [
    "#удалим полные дубликаты строк,за исключением первого вхождения\n",
    "df = df.drop_duplicates(keep='first').reset_index(drop=True)\n",
    "#проверим размер таблицы после удаления дубликатов строк\n",
    "print(df.shape)"
   ]
  },
  {
   "cell_type": "code",
   "execution_count": 32,
   "metadata": {},
   "outputs": [
    {
     "name": "stdout",
     "output_type": "stream",
     "text": [
      "0\n"
     ]
    }
   ],
   "source": [
    "#проверим, что полных дубликатов строк в таблице нет\n",
    "print(df.duplicated().sum())"
   ]
  },
  {
   "cell_type": "markdown",
   "metadata": {},
   "source": [
    "### Вывод"
   ]
  },
  {
   "cell_type": "markdown",
   "metadata": {},
   "source": [
    "Для удаления дубликатов данных:\n",
    "1) были заполнены все значения NaN\n",
    "2) привела значения в столбцах к нижнему регистру, чтобы не было дублирующихся значений в рамках каждого столбца\n",
    "2) методом drop_duplicates() удалила все дублирующиеся строки, за исключением первого вхождения\n",
    "\n",
    "Возможные причины появления дубликатов в данных:\n",
    "1) отсутствие единого формата данных при заполнении анкеты и вводе их в базу\n",
    "2) ошибки ввода данных\n",
    "3) человеческий фактор (одна и та же анкета была внесена в базу несколько раз)\n"
   ]
  },
  {
   "cell_type": "markdown",
   "metadata": {},
   "source": [
    "# 1. Исследовательский анализ данных <a id='8'></a>"
   ]
  },
  {
   "cell_type": "markdown",
   "metadata": {},
   "source": [
    "## Изучение целей получения кредитов. Лемматизация <a id='9'></a>"
   ]
  },
  {
   "cell_type": "markdown",
   "metadata": {},
   "source": [
    "Проведем лемматизацию столбца 'purpose', чтобы выделить основные цели получения кредита клиентами."
   ]
  },
  {
   "cell_type": "code",
   "execution_count": 33,
   "metadata": {},
   "outputs": [],
   "source": [
    "#импортируем pymystem3 и Counter\n",
    "from pymystem3 import Mystem\n",
    "m = Mystem()\n",
    "from collections import Counter"
   ]
  },
  {
   "cell_type": "code",
   "execution_count": 34,
   "metadata": {},
   "outputs": [
    {
     "name": "stdout",
     "output_type": "stream",
     "text": [
      "['покупка жилья' 'приобретение автомобиля' 'дополнительное образование'\n",
      " 'сыграть свадьбу' 'операции с жильем' 'образование'\n",
      " 'на проведение свадьбы' 'покупка жилья для семьи' 'покупка недвижимости'\n",
      " 'покупка коммерческой недвижимости' 'покупка жилой недвижимости'\n",
      " 'строительство собственной недвижимости' 'недвижимость'\n",
      " 'строительство недвижимости' 'на покупку подержанного автомобиля'\n",
      " 'на покупку своего автомобиля' 'операции с коммерческой недвижимостью'\n",
      " 'строительство жилой недвижимости' 'жилье'\n",
      " 'операции со своей недвижимостью' 'автомобили' 'заняться образованием'\n",
      " 'сделка с подержанным автомобилем' 'получение образования' 'автомобиль'\n",
      " 'свадьба' 'получение дополнительного образования' 'покупка своего жилья'\n",
      " 'операции с недвижимостью' 'получение высшего образования'\n",
      " 'свой автомобиль' 'сделка с автомобилем' 'профильное образование'\n",
      " 'высшее образование' 'покупка жилья для сдачи' 'на покупку автомобиля'\n",
      " 'ремонт жилью' 'заняться высшим образованием']\n"
     ]
    }
   ],
   "source": [
    "#выведем список уникальных значений столбца\n",
    "print(df['purpose'].unique())"
   ]
  },
  {
   "cell_type": "code",
   "execution_count": 35,
   "metadata": {},
   "outputs": [
    {
     "name": "stdout",
     "output_type": "stream",
     "text": [
      "0                              покупка жилья\n",
      "1                    приобретение автомобиля\n",
      "2                 дополнительное образование\n",
      "3                            сыграть свадьбу\n",
      "4                          операции с жильем\n",
      "5                                образование\n",
      "6                      на проведение свадьбы\n",
      "7                    покупка жилья для семьи\n",
      "8                       покупка недвижимости\n",
      "9          покупка коммерческой недвижимости\n",
      "10                покупка жилой недвижимости\n",
      "11    строительство собственной недвижимости\n",
      "12                              недвижимость\n",
      "13                строительство недвижимости\n",
      "14        на покупку подержанного автомобиля\n",
      "15              на покупку своего автомобиля\n",
      "16     операции с коммерческой недвижимостью\n",
      "17          строительство жилой недвижимости\n",
      "18                                     жилье\n",
      "19           операции со своей недвижимостью\n",
      "20                                автомобили\n",
      "21                     заняться образованием\n",
      "22          сделка с подержанным автомобилем\n",
      "23                     получение образования\n",
      "24                                автомобиль\n",
      "25                                   свадьба\n",
      "26     получение дополнительного образования\n",
      "27                      покупка своего жилья\n",
      "28                  операции с недвижимостью\n",
      "29             получение высшего образования\n",
      "30                           свой автомобиль\n",
      "31                      сделка с автомобилем\n",
      "32                    профильное образование\n",
      "33                        высшее образование\n",
      "34                   покупка жилья для сдачи\n",
      "35                     на покупку автомобиля\n",
      "36                              ремонт жилью\n",
      "37              заняться высшим образованием\n",
      "Name: purpose, dtype: object\n"
     ]
    }
   ],
   "source": [
    "#создадим список всех целей для получения кредита\n",
    "#соберем уникальные значения ''purpose' в словарь \n",
    "purpose_dict = df['purpose']\n",
    "#удалим дубликаты строк\n",
    "purpose_dict = purpose_dict.drop_duplicates().reset_index(drop=True)\n",
    "print(purpose_dict)"
   ]
  },
  {
   "cell_type": "code",
   "execution_count": 36,
   "metadata": {},
   "outputs": [],
   "source": [
    "#пропишем метод, который лемматизирует значения столбца 'purpose' и добавляет их в столбец 'lemmas'\n",
    "def lemmatize_row(row):\n",
    "    #для каждого значения из purpose_dict проведем лемматизацию\n",
    "    for key in purpose_dict:\n",
    "        if row ==key:\n",
    "            lemmas = m.lemmatize(key)\n",
    "            #склеим полученные слова и вернем для внесения в таблицу с данными\n",
    "            return \"\".join(lemmas).strip()  "
   ]
  },
  {
   "cell_type": "code",
   "execution_count": 37,
   "metadata": {},
   "outputs": [
    {
     "name": "stdout",
     "output_type": "stream",
     "text": [
      "0                              покупка жилье\n",
      "1                    приобретение автомобиль\n",
      "2                              покупка жилье\n",
      "3                 дополнительный образование\n",
      "4                            сыграть свадьба\n",
      "5                              покупка жилье\n",
      "6                           операция с жилье\n",
      "7                                образование\n",
      "8                      на проведение свадьба\n",
      "9                    покупка жилье для семья\n",
      "10                      покупка недвижимость\n",
      "11         покупка коммерческий недвижимость\n",
      "12                           сыграть свадьба\n",
      "13                   приобретение автомобиль\n",
      "14                покупка жилой недвижимость\n",
      "15    строительство собственный недвижимость\n",
      "16                              недвижимость\n",
      "17                строительство недвижимость\n",
      "18           на покупка подержать автомобиль\n",
      "19                на покупка свой автомобиль\n",
      "Name: lemmas, dtype: object\n"
     ]
    }
   ],
   "source": [
    "#вызовем метод lemmatize_row(row)\n",
    "df['lemmas'] = df['purpose'].apply(lemmatize_row)\n",
    "#проверим как теперь выглядят цели в новом столбце\n",
    "print(df['lemmas'].head(20))"
   ]
  },
  {
   "cell_type": "code",
   "execution_count": 38,
   "metadata": {},
   "outputs": [
    {
     "name": "stdout",
     "output_type": "stream",
     "text": [
      "['покупка жилье' 'приобретение автомобиль' 'дополнительный образование'\n",
      " 'сыграть свадьба' 'операция с жилье' 'образование'\n",
      " 'на проведение свадьба' 'покупка жилье для семья' 'покупка недвижимость'\n",
      " 'покупка коммерческий недвижимость' 'покупка жилой недвижимость'\n",
      " 'строительство собственный недвижимость' 'недвижимость'\n",
      " 'строительство недвижимость' 'на покупка подержать автомобиль'\n",
      " 'на покупка свой автомобиль' 'операция с коммерческий недвижимость'\n",
      " 'строительство жилой недвижимость' 'жилье'\n",
      " 'операция со свой недвижимость' 'автомобиль' 'заниматься образование'\n",
      " 'сделка с подержанный автомобиль' 'получение образование' 'свадьба'\n",
      " 'получение дополнительный образование' 'покупка свой жилье'\n",
      " 'операция с недвижимость' 'получение высокий образование'\n",
      " 'свой автомобиль' 'сделка с автомобиль' 'профильный образование'\n",
      " 'высокий образование' 'покупка жилье для сдача' 'на покупка автомобиль'\n",
      " 'ремонт жилье' 'заниматься высокий образование']\n"
     ]
    }
   ],
   "source": [
    "#проверим, что все уникальные значения были лемматизированы\n",
    "print(df['lemmas'].unique())"
   ]
  },
  {
   "cell_type": "code",
   "execution_count": 39,
   "metadata": {},
   "outputs": [],
   "source": [
    "#напишем метод, который оставит в столбце 'purpose' только одно слово\n",
    "def main_purpose(row):\n",
    "    for word in row: \n",
    "        if 'жилье' in row or 'недвижимость' in row:\n",
    "            return 'недвижимость'\n",
    "        if 'образование' in row:\n",
    "            return 'образование'\n",
    "        if 'автомобиль' in row or 'машина' in row:\n",
    "            return 'автомобиль'\n",
    "        if 'свадьба' in row:\n",
    "            return 'свадьба'\n",
    "        return 'прочее'"
   ]
  },
  {
   "cell_type": "code",
   "execution_count": 40,
   "metadata": {},
   "outputs": [
    {
     "name": "stdout",
     "output_type": "stream",
     "text": [
      "недвижимость    10816\n",
      "автомобиль       4304\n",
      "образование      4012\n",
      "свадьба          2346\n",
      "Name: main_purpose, dtype: int64\n"
     ]
    }
   ],
   "source": [
    "#применим main_purpose(row), создадим новый столбец, содержащий одно слово в качестве цели получения займа\n",
    "df['main_purpose'] = df['lemmas'].apply(main_purpose)\n",
    "#проверим распределение целей по датафрейму\n",
    "print(df['main_purpose'].value_counts())"
   ]
  },
  {
   "cell_type": "code",
   "execution_count": 41,
   "metadata": {},
   "outputs": [
    {
     "name": "stdout",
     "output_type": "stream",
     "text": [
      "21478\n"
     ]
    }
   ],
   "source": [
    "#проверим,что метод заполнил все  строки и мы ничего не пропустили\n",
    "print(df['main_purpose'].value_counts().sum())"
   ]
  },
  {
   "cell_type": "markdown",
   "metadata": {},
   "source": [
    "### Вывод"
   ]
  },
  {
   "cell_type": "markdown",
   "metadata": {},
   "source": [
    "Для проведения лемматизации столбца 'purpose':\n",
    "1) были выбраны уникальные значения данного столбца, из которых был создан отдельный список\n",
    "2) при помощи функции lemmatize_row(row) была проведена лемматизация всех строк столбца 'purpose'\n",
    "3) при помощи метода main_purpose(row) в таблицу был добавлен столбец 'main_purpose', содержащий одно слово-описание цели получения кредита. Этотстолбец потребуется для итоговых выводов.\n",
    "Наибольшим спросом пользуются кредиты с целью приобретения недвижимости."
   ]
  },
  {
   "cell_type": "markdown",
   "metadata": {},
   "source": [
    "## Категоризация данных <a id='10'></a>"
   ]
  },
  {
   "cell_type": "markdown",
   "metadata": {},
   "source": [
    "Для того, чтобы увидеть, каких значений в каждом необходимом для анализа столбце больше, а каких совсем мало, создадим словари по интересующим нас столбцам данных."
   ]
  },
  {
   "cell_type": "code",
   "execution_count": 42,
   "metadata": {},
   "outputs": [],
   "source": [
    "#напишем функцию, которая собирает словари\n",
    "def pandas_dict(col):\n",
    "    return(col.value_counts().to_dict())"
   ]
  },
  {
   "cell_type": "code",
   "execution_count": 43,
   "metadata": {},
   "outputs": [
    {
     "data": {
      "text/plain": [
       "{'женат / замужем': 12351,\n",
       " 'гражданский брак': 4172,\n",
       " 'не женат / не замужем': 2808,\n",
       " 'в разводе': 1191,\n",
       " 'вдовец / вдова': 956}"
      ]
     },
     "metadata": {},
     "output_type": "display_data"
    }
   ],
   "source": [
    "#соберем словарь по столбцу 'family_status'\n",
    "family_status_dict = pandas_dict(df['family_status'])\n",
    "display(family_status_dict)"
   ]
  },
  {
   "cell_type": "code",
   "execution_count": 44,
   "metadata": {},
   "outputs": [
    {
     "data": {
      "text/plain": [
       "{0: 14149, 1: 4818, 2: 2131, 3: 330, 4: 41, 5: 9}"
      ]
     },
     "metadata": {},
     "output_type": "display_data"
    }
   ],
   "source": [
    "#соберем словарь по столбцу 'children'\n",
    "children_dict = pandas_dict(df['children'])\n",
    "display(children_dict)"
   ]
  },
  {
   "cell_type": "code",
   "execution_count": 45,
   "metadata": {},
   "outputs": [
    {
     "data": {
      "text/plain": [
       "{'недвижимость': 10816,\n",
       " 'автомобиль': 4304,\n",
       " 'образование': 4012,\n",
       " 'свадьба': 2346}"
      ]
     },
     "metadata": {},
     "output_type": "display_data"
    }
   ],
   "source": [
    "#соберем словарь по столбцу 'main_purpose'\n",
    "main_purpose_dict = pandas_dict(df['main_purpose'])\n",
    "display(main_purpose_dict)"
   ]
  },
  {
   "cell_type": "markdown",
   "metadata": {},
   "source": [
    "### Вывод"
   ]
  },
  {
   "cell_type": "markdown",
   "metadata": {},
   "source": [
    "В данном разделе были созданы словари для тех данных, которые необходимы для итоговых выводов."
   ]
  },
  {
   "cell_type": "markdown",
   "metadata": {},
   "source": [
    "Для первой таблицы с данными семейному положению и возвратом кредита в срок были использованы готовые категории из исходной таблицы.\n",
    "Большая часть клиентов имеет одинаковый семейный статус (женат/замужем). В меньшинстве оказываются клиенты, которые находятся в разводе либо потеряли супруга. Для сравнения таких разных по количеству групп категорий попробуем в следующем разделе объединить группы."
   ]
  },
  {
   "cell_type": "markdown",
   "metadata": {},
   "source": [
    "Для выделения категорий по количеству детей у клиента, были использованы готовые категории из нужного столбца. Из словаря видно, что клиентов с 4 и 5 детьми слишком мало - меньше 50, а значит эти группы будет неправильно сравнивать с остальными группами, поэтому при построении итоговых таблиц будет произведено их объединение в одну группу."
   ]
  },
  {
   "cell_type": "markdown",
   "metadata": {},
   "source": [
    "Для выделения категорий клиентов по цели получения кредита были использованы готовые категории, полученные в ходу лемматизации данных.  Отсутствуют слишком маленькие группы, дополнительного объединения не требуется."
   ]
  },
  {
   "cell_type": "markdown",
   "metadata": {},
   "source": [
    "Для выделения категорий клиентов по доходу в следующем разделе будут использованы процентили - это позволит разделить всех на равные группы по доходу."
   ]
  },
  {
   "cell_type": "markdown",
   "metadata": {},
   "source": [
    "# 4. Влияние признаков на целевое событие <a id='11'></a>"
   ]
  },
  {
   "cell_type": "code",
   "execution_count": 46,
   "metadata": {
    "scrolled": true
   },
   "outputs": [
    {
     "data": {
      "text/html": [
       "<div>\n",
       "<style scoped>\n",
       "    .dataframe tbody tr th:only-of-type {\n",
       "        vertical-align: middle;\n",
       "    }\n",
       "\n",
       "    .dataframe tbody tr th {\n",
       "        vertical-align: top;\n",
       "    }\n",
       "\n",
       "    .dataframe thead th {\n",
       "        text-align: right;\n",
       "    }\n",
       "</style>\n",
       "<table border=\"1\" class=\"dataframe\">\n",
       "  <thead>\n",
       "    <tr style=\"text-align: right;\">\n",
       "      <th></th>\n",
       "      <th>children</th>\n",
       "      <th>gender</th>\n",
       "      <th>family_status</th>\n",
       "      <th>total_income</th>\n",
       "      <th>main_purpose</th>\n",
       "      <th>debt</th>\n",
       "    </tr>\n",
       "  </thead>\n",
       "  <tbody>\n",
       "    <tr>\n",
       "      <td>0</td>\n",
       "      <td>1</td>\n",
       "      <td>F</td>\n",
       "      <td>женат / замужем</td>\n",
       "      <td>253875</td>\n",
       "      <td>недвижимость</td>\n",
       "      <td>0</td>\n",
       "    </tr>\n",
       "    <tr>\n",
       "      <td>1</td>\n",
       "      <td>1</td>\n",
       "      <td>F</td>\n",
       "      <td>женат / замужем</td>\n",
       "      <td>112080</td>\n",
       "      <td>автомобиль</td>\n",
       "      <td>0</td>\n",
       "    </tr>\n",
       "    <tr>\n",
       "      <td>2</td>\n",
       "      <td>0</td>\n",
       "      <td>M</td>\n",
       "      <td>женат / замужем</td>\n",
       "      <td>145885</td>\n",
       "      <td>недвижимость</td>\n",
       "      <td>0</td>\n",
       "    </tr>\n",
       "    <tr>\n",
       "      <td>3</td>\n",
       "      <td>3</td>\n",
       "      <td>M</td>\n",
       "      <td>женат / замужем</td>\n",
       "      <td>267628</td>\n",
       "      <td>образование</td>\n",
       "      <td>0</td>\n",
       "    </tr>\n",
       "    <tr>\n",
       "      <td>4</td>\n",
       "      <td>0</td>\n",
       "      <td>F</td>\n",
       "      <td>гражданский брак</td>\n",
       "      <td>158616</td>\n",
       "      <td>свадьба</td>\n",
       "      <td>0</td>\n",
       "    </tr>\n",
       "  </tbody>\n",
       "</table>\n",
       "</div>"
      ],
      "text/plain": [
       "   children gender     family_status  total_income  main_purpose  debt\n",
       "0         1      F   женат / замужем        253875  недвижимость     0\n",
       "1         1      F   женат / замужем        112080    автомобиль     0\n",
       "2         0      M   женат / замужем        145885  недвижимость     0\n",
       "3         3      M   женат / замужем        267628   образование     0\n",
       "4         0      F  гражданский брак        158616       свадьба     0"
      ]
     },
     "metadata": {},
     "output_type": "display_data"
    }
   ],
   "source": [
    "#соберем финальную таблицу из нужных столбцов\n",
    "df_final = df[['children', 'gender', 'family_status', 'total_income', 'main_purpose','debt']]\n",
    "display(df_final.head())"
   ]
  },
  {
   "cell_type": "markdown",
   "metadata": {},
   "source": [
    "- Есть ли зависимость между наличием детей и возвратом кредита в срок?"
   ]
  },
  {
   "cell_type": "markdown",
   "metadata": {},
   "source": [
    "Cоберем сводную таблицy с данными о задолженностях и количестве детей.\n",
    "Предварительно объединим данные о клиентах с 4 и 5 детьми\n",
    "Клиентов с 5 детьми мало (9 случаев) относительно выборки и у клиентов с 5 детьми нет задолженностей (в таблицу попадает значение NaN, которое при замене на 0 не позволяет произвести верные вычисления)."
   ]
  },
  {
   "cell_type": "code",
   "execution_count": 47,
   "metadata": {},
   "outputs": [
    {
     "data": {
      "text/html": [
       "<div>\n",
       "<style scoped>\n",
       "    .dataframe tbody tr th:only-of-type {\n",
       "        vertical-align: middle;\n",
       "    }\n",
       "\n",
       "    .dataframe tbody tr th {\n",
       "        vertical-align: top;\n",
       "    }\n",
       "\n",
       "    .dataframe thead th {\n",
       "        text-align: right;\n",
       "    }\n",
       "</style>\n",
       "<table border=\"1\" class=\"dataframe\">\n",
       "  <thead>\n",
       "    <tr style=\"text-align: right;\">\n",
       "      <th></th>\n",
       "      <th>no_debt</th>\n",
       "      <th>debt</th>\n",
       "      <th>no_debt%</th>\n",
       "      <th>debt_%</th>\n",
       "    </tr>\n",
       "    <tr>\n",
       "      <th>child_group</th>\n",
       "      <th></th>\n",
       "      <th></th>\n",
       "      <th></th>\n",
       "      <th></th>\n",
       "    </tr>\n",
       "  </thead>\n",
       "  <tbody>\n",
       "    <tr>\n",
       "      <td>нет детей</td>\n",
       "      <td>13086</td>\n",
       "      <td>1063</td>\n",
       "      <td>92.5</td>\n",
       "      <td>7.5</td>\n",
       "    </tr>\n",
       "    <tr>\n",
       "      <td>4-5 детей</td>\n",
       "      <td>46</td>\n",
       "      <td>4</td>\n",
       "      <td>92.0</td>\n",
       "      <td>8.0</td>\n",
       "    </tr>\n",
       "    <tr>\n",
       "      <td>3 ребенка</td>\n",
       "      <td>303</td>\n",
       "      <td>27</td>\n",
       "      <td>91.8</td>\n",
       "      <td>8.2</td>\n",
       "    </tr>\n",
       "    <tr>\n",
       "      <td>1 ребенок</td>\n",
       "      <td>4374</td>\n",
       "      <td>444</td>\n",
       "      <td>90.8</td>\n",
       "      <td>9.2</td>\n",
       "    </tr>\n",
       "    <tr>\n",
       "      <td>2 ребенка</td>\n",
       "      <td>1929</td>\n",
       "      <td>202</td>\n",
       "      <td>90.5</td>\n",
       "      <td>9.5</td>\n",
       "    </tr>\n",
       "  </tbody>\n",
       "</table>\n",
       "</div>"
      ],
      "text/plain": [
       "             no_debt  debt  no_debt%  debt_%\n",
       "child_group                                 \n",
       "нет детей      13086  1063      92.5     7.5\n",
       "4-5 детей         46     4      92.0     8.0\n",
       "3 ребенка        303    27      91.8     8.2\n",
       "1 ребенок       4374   444      90.8     9.2\n",
       "2 ребенка       1929   202      90.5     9.5"
      ]
     },
     "metadata": {},
     "output_type": "display_data"
    }
   ],
   "source": [
    "def child_group(row):\n",
    "    if row['children'] == 0:\n",
    "        return 'нет детей'\n",
    "    elif row['children'] == 1:\n",
    "        return '1 ребенок'\n",
    "    elif row['children'] == 2:\n",
    "        return '2 ребенка'\n",
    "    elif row['children'] == 3:\n",
    "        return '3 ребенка'\n",
    "    else:\n",
    "        return '4-5 детей'\n",
    "    \n",
    "df_final['child_group'] = df.apply(child_group, axis = 1)\n",
    "children_pivot = df_final.pivot_table(index='child_group', columns='debt', values='gender', aggfunc='count')\n",
    "children_pivot.columns = ['no_debt', 'debt']\n",
    "children_pivot['no_debt%'] = round((children_pivot['no_debt'] / (children_pivot['debt'] + children_pivot['no_debt']))*100,1)\n",
    "children_pivot['debt_%'] = round((children_pivot['debt'] / (children_pivot['debt'] + children_pivot['no_debt']))*100,1)\n",
    "display(children_pivot.head(10).sort_values('debt_%'))"
   ]
  },
  {
   "cell_type": "markdown",
   "metadata": {},
   "source": [
    "1. Наиболее высокая вероятность возвращения кредита, если у клиента детей нет (92,5% возвращают кредит в срок). Это вполне объяснимо, поскольку с детьми часто связаны незапланированные траты денег, которые могут влиять на своевременность выплат по кредиту.\n",
    "2. Среди тех, кто имеет детей наибольшая вероятность задолженности по кредиту у клиентов с двумя детьми.\n",
    "3. Информацию о клиентах с 4-5 детьми учитывать, скорее всего, не стоит, поскольку группа маленькая и имеющиеся данные вряд ли валидны на фоне остальной выборки."
   ]
  },
  {
   "cell_type": "markdown",
   "metadata": {},
   "source": [
    "## Влияние семейного положения клиента на возврат кредита в срок <a id='12'></a>"
   ]
  },
  {
   "cell_type": "code",
   "execution_count": 48,
   "metadata": {
    "scrolled": true
   },
   "outputs": [
    {
     "data": {
      "text/html": [
       "<div>\n",
       "<style scoped>\n",
       "    .dataframe tbody tr th:only-of-type {\n",
       "        vertical-align: middle;\n",
       "    }\n",
       "\n",
       "    .dataframe tbody tr th {\n",
       "        vertical-align: top;\n",
       "    }\n",
       "\n",
       "    .dataframe thead th {\n",
       "        text-align: right;\n",
       "    }\n",
       "</style>\n",
       "<table border=\"1\" class=\"dataframe\">\n",
       "  <thead>\n",
       "    <tr style=\"text-align: right;\">\n",
       "      <th></th>\n",
       "      <th>no_debt</th>\n",
       "      <th>debt</th>\n",
       "      <th>no_debt%</th>\n",
       "      <th>debt_%</th>\n",
       "    </tr>\n",
       "    <tr>\n",
       "      <th>family_status</th>\n",
       "      <th></th>\n",
       "      <th></th>\n",
       "      <th></th>\n",
       "      <th></th>\n",
       "    </tr>\n",
       "  </thead>\n",
       "  <tbody>\n",
       "    <tr>\n",
       "      <td>вдовец / вдова</td>\n",
       "      <td>893</td>\n",
       "      <td>63</td>\n",
       "      <td>93.4</td>\n",
       "      <td>6.6</td>\n",
       "    </tr>\n",
       "    <tr>\n",
       "      <td>в разводе</td>\n",
       "      <td>1106</td>\n",
       "      <td>85</td>\n",
       "      <td>92.9</td>\n",
       "      <td>7.1</td>\n",
       "    </tr>\n",
       "    <tr>\n",
       "      <td>женат / замужем</td>\n",
       "      <td>11421</td>\n",
       "      <td>930</td>\n",
       "      <td>92.5</td>\n",
       "      <td>7.5</td>\n",
       "    </tr>\n",
       "    <tr>\n",
       "      <td>гражданский брак</td>\n",
       "      <td>3784</td>\n",
       "      <td>388</td>\n",
       "      <td>90.7</td>\n",
       "      <td>9.3</td>\n",
       "    </tr>\n",
       "    <tr>\n",
       "      <td>не женат / не замужем</td>\n",
       "      <td>2534</td>\n",
       "      <td>274</td>\n",
       "      <td>90.2</td>\n",
       "      <td>9.8</td>\n",
       "    </tr>\n",
       "  </tbody>\n",
       "</table>\n",
       "</div>"
      ],
      "text/plain": [
       "                       no_debt  debt  no_debt%  debt_%\n",
       "family_status                                         \n",
       "вдовец / вдова             893    63      93.4     6.6\n",
       "в разводе                 1106    85      92.9     7.1\n",
       "женат / замужем          11421   930      92.5     7.5\n",
       "гражданский брак          3784   388      90.7     9.3\n",
       "не женат / не замужем     2534   274      90.2     9.8"
      ]
     },
     "metadata": {},
     "output_type": "display_data"
    }
   ],
   "source": [
    "#соберем первую сводную таблиу с данными о задолженностях и семейном статусе\n",
    "fs_pivot = df_final.pivot_table(index='family_status', columns='debt', values='gender', aggfunc='count')\n",
    "fs_pivot.columns = ['no_debt', 'debt']\n",
    "fs_pivot['no_debt%'] = round((fs_pivot['no_debt'] / (fs_pivot['debt'] + fs_pivot['no_debt']))*100,1)\n",
    "fs_pivot['debt_%'] = round((fs_pivot['debt'] / (fs_pivot['debt'] + fs_pivot['no_debt']))*100,1)\n",
    "display(fs_pivot.head(10).sort_values('debt_%'))"
   ]
  },
  {
   "cell_type": "code",
   "execution_count": 49,
   "metadata": {},
   "outputs": [
    {
     "data": {
      "text/html": [
       "<div>\n",
       "<style scoped>\n",
       "    .dataframe tbody tr th:only-of-type {\n",
       "        vertical-align: middle;\n",
       "    }\n",
       "\n",
       "    .dataframe tbody tr th {\n",
       "        vertical-align: top;\n",
       "    }\n",
       "\n",
       "    .dataframe thead th {\n",
       "        text-align: right;\n",
       "    }\n",
       "</style>\n",
       "<table border=\"1\" class=\"dataframe\">\n",
       "  <thead>\n",
       "    <tr style=\"text-align: right;\">\n",
       "      <th></th>\n",
       "      <th>no_debt</th>\n",
       "      <th>debt</th>\n",
       "      <th>no_debt%</th>\n",
       "      <th>debt_%</th>\n",
       "    </tr>\n",
       "    <tr>\n",
       "      <th>family_status2</th>\n",
       "      <th></th>\n",
       "      <th></th>\n",
       "      <th></th>\n",
       "      <th></th>\n",
       "    </tr>\n",
       "  </thead>\n",
       "  <tbody>\n",
       "    <tr>\n",
       "      <td>клиент заключал официальный брак</td>\n",
       "      <td>13420</td>\n",
       "      <td>1078</td>\n",
       "      <td>92.6</td>\n",
       "      <td>7.4</td>\n",
       "    </tr>\n",
       "    <tr>\n",
       "      <td>клиент не заключал официальный брак</td>\n",
       "      <td>6318</td>\n",
       "      <td>662</td>\n",
       "      <td>90.5</td>\n",
       "      <td>9.5</td>\n",
       "    </tr>\n",
       "  </tbody>\n",
       "</table>\n",
       "</div>"
      ],
      "text/plain": [
       "                                     no_debt  debt  no_debt%  debt_%\n",
       "family_status2                                                      \n",
       "клиент заключал официальный брак       13420  1078      92.6     7.4\n",
       "клиент не заключал официальный брак     6318   662      90.5     9.5"
      ]
     },
     "metadata": {},
     "output_type": "display_data"
    }
   ],
   "source": [
    "#добавим в таблицу df_final колонку с категориями по семейному статусу\n",
    "def family_status2(row):\n",
    "    if row['family_status'] in ['не женат / не замужем'] or row['family_status'] in ['гражданский брак']:\n",
    "        return 'клиент не заключал официальный брак'\n",
    "    else:\n",
    "        return 'клиент заключал официальный брак'\n",
    "\n",
    "df_final['family_status2'] = df.apply(family_status2, axis = 1)\n",
    "#print(df_final.head())\n",
    "#соберем вторую сводную таблиу с данными о задолженностях и семейном статусе\n",
    "fs_pivot2 = df_final.pivot_table(index='family_status2', columns='debt', values='gender', aggfunc='count')\n",
    "fs_pivot2.columns = ['no_debt', 'debt']\n",
    "fs_pivot2['no_debt%'] = round((fs_pivot2['no_debt'] / (fs_pivot2['debt'] + fs_pivot2['no_debt']))*100,1)\n",
    "fs_pivot2['debt_%'] = round((fs_pivot2['debt'] / (fs_pivot2['debt'] + fs_pivot2['no_debt']))*100,1)\n",
    "display(fs_pivot2.head(10).sort_values('debt_%'))"
   ]
  },
  {
   "cell_type": "markdown",
   "metadata": {},
   "source": [
    "Если клиент был в официальном браке (замужем/женат, вдоца/вдовец, в разводе), то шанс возвращения кредита в срок выше (92,1%).\n",
    "При этом клиенты, брак которых был завершен (развод - 92.9%, потеря супруга - 93.4%) имеют наибольшую вероятность вернуть кредит в срок. \n",
    "У клиентов, не заключавших официальный брак шанс возвращения кредита - 90,1%.\n",
    "\n",
    "Такие результаты могут связаны с психологическим фактором - готовностью брать на себя ответственность. Вероятно, клиенты, вступившие в официальный брак, с большей вероятностью готовы брать на себя ответственность за принятые решения."
   ]
  },
  {
   "cell_type": "markdown",
   "metadata": {},
   "source": [
    "## Влияние уровня дохода на возврат кредита в срок <a id='13'></a>"
   ]
  },
  {
   "cell_type": "code",
   "execution_count": 50,
   "metadata": {
    "scrolled": false
   },
   "outputs": [
    {
     "name": "stdout",
     "output_type": "stream",
     "text": [
      "count      19351.0\n",
      "mean      167422.0\n",
      "std       102972.0\n",
      "min        20667.0\n",
      "25%       103053.0\n",
      "50%       145018.0\n",
      "75%       203435.0\n",
      "max      2265604.0\n",
      "Name: total_income, dtype: float64 2\n"
     ]
    }
   ],
   "source": [
    "#узнаем, какие чему равны процентили в колонке 'total_income'\n",
    "print(round(data['total_income'].describe()),2)"
   ]
  },
  {
   "cell_type": "code",
   "execution_count": 51,
   "metadata": {
    "scrolled": true
   },
   "outputs": [
    {
     "data": {
      "text/html": [
       "<div>\n",
       "<style scoped>\n",
       "    .dataframe tbody tr th:only-of-type {\n",
       "        vertical-align: middle;\n",
       "    }\n",
       "\n",
       "    .dataframe tbody tr th {\n",
       "        vertical-align: top;\n",
       "    }\n",
       "\n",
       "    .dataframe thead th {\n",
       "        text-align: right;\n",
       "    }\n",
       "</style>\n",
       "<table border=\"1\" class=\"dataframe\">\n",
       "  <thead>\n",
       "    <tr style=\"text-align: right;\">\n",
       "      <th></th>\n",
       "      <th>no_debt</th>\n",
       "      <th>debt</th>\n",
       "      <th>no_debt%</th>\n",
       "      <th>debt_%</th>\n",
       "    </tr>\n",
       "    <tr>\n",
       "      <th>income_groups2</th>\n",
       "      <th></th>\n",
       "      <th></th>\n",
       "      <th></th>\n",
       "      <th></th>\n",
       "    </tr>\n",
       "  </thead>\n",
       "  <tbody>\n",
       "    <tr>\n",
       "      <td>203435+</td>\n",
       "      <td>4490</td>\n",
       "      <td>341</td>\n",
       "      <td>92.9</td>\n",
       "      <td>7.1</td>\n",
       "    </tr>\n",
       "    <tr>\n",
       "      <td>0-103053</td>\n",
       "      <td>4446</td>\n",
       "      <td>383</td>\n",
       "      <td>92.1</td>\n",
       "      <td>7.9</td>\n",
       "    </tr>\n",
       "    <tr>\n",
       "      <td>145019 - 203435</td>\n",
       "      <td>5015</td>\n",
       "      <td>462</td>\n",
       "      <td>91.6</td>\n",
       "      <td>8.4</td>\n",
       "    </tr>\n",
       "    <tr>\n",
       "      <td>103054 - 145018</td>\n",
       "      <td>5787</td>\n",
       "      <td>554</td>\n",
       "      <td>91.3</td>\n",
       "      <td>8.7</td>\n",
       "    </tr>\n",
       "  </tbody>\n",
       "</table>\n",
       "</div>"
      ],
      "text/plain": [
       "                 no_debt  debt  no_debt%  debt_%\n",
       "income_groups2                                  \n",
       "203435+             4490   341      92.9     7.1\n",
       "0-103053            4446   383      92.1     7.9\n",
       "145019 - 203435     5015   462      91.6     8.4\n",
       "103054 - 145018     5787   554      91.3     8.7"
      ]
     },
     "metadata": {},
     "output_type": "display_data"
    }
   ],
   "source": [
    "#добавим в таблицу df_final колонку с категориями дохода, разделив на группы по процентилям (25, 50, 75 )\n",
    "def income_group2(row):\n",
    "    if  row['total_income'] <= 103053:\n",
    "        return '0-103053'\n",
    "    elif  103053 < row['total_income'] <= 145018:\n",
    "        return '103054 - 145018'\n",
    "    elif  145018 < row['total_income'] < 203435:\n",
    "        return '145019 - 203435'\n",
    "    else:\n",
    "        return '203435+'\n",
    "    \n",
    "df_final['income_groups2'] = df.apply(income_group2, axis = 1)\n",
    "#print(df_final.head())\n",
    "\n",
    "#соберем первую сводную таблиу с данными о задолженностях и размере дохода по категориям\n",
    "ti_pivot2 = df_final.pivot_table(index='income_groups2', columns='debt', values='gender', aggfunc='count')\n",
    "ti_pivot2.columns = ['no_debt', 'debt']\n",
    "ti_pivot2['no_debt%'] =round((ti_pivot2['no_debt'] / (ti_pivot2['debt'] + ti_pivot2['no_debt']))*100,1)\n",
    "ti_pivot2['debt_%'] = round((ti_pivot2['debt'] / (ti_pivot2['debt'] + ti_pivot2['no_debt']))*100,1)\n",
    "display(ti_pivot2.head(10).sort_values('debt_%'))"
   ]
  },
  {
   "cell_type": "code",
   "execution_count": 52,
   "metadata": {},
   "outputs": [
    {
     "data": {
      "text/html": [
       "<div>\n",
       "<style scoped>\n",
       "    .dataframe tbody tr th:only-of-type {\n",
       "        vertical-align: middle;\n",
       "    }\n",
       "\n",
       "    .dataframe tbody tr th {\n",
       "        vertical-align: top;\n",
       "    }\n",
       "\n",
       "    .dataframe thead th {\n",
       "        text-align: right;\n",
       "    }\n",
       "</style>\n",
       "<table border=\"1\" class=\"dataframe\">\n",
       "  <thead>\n",
       "    <tr style=\"text-align: right;\">\n",
       "      <th></th>\n",
       "      <th>no_debt</th>\n",
       "      <th>debt</th>\n",
       "      <th>no_debt%</th>\n",
       "      <th>debt_%</th>\n",
       "    </tr>\n",
       "    <tr>\n",
       "      <th>income_groups3</th>\n",
       "      <th></th>\n",
       "      <th></th>\n",
       "      <th></th>\n",
       "      <th></th>\n",
       "    </tr>\n",
       "  </thead>\n",
       "  <tbody>\n",
       "    <tr>\n",
       "      <td>145018+</td>\n",
       "      <td>9505</td>\n",
       "      <td>803</td>\n",
       "      <td>92.2</td>\n",
       "      <td>7.8</td>\n",
       "    </tr>\n",
       "    <tr>\n",
       "      <td>0-145018</td>\n",
       "      <td>10233</td>\n",
       "      <td>937</td>\n",
       "      <td>91.6</td>\n",
       "      <td>8.4</td>\n",
       "    </tr>\n",
       "  </tbody>\n",
       "</table>\n",
       "</div>"
      ],
      "text/plain": [
       "                no_debt  debt  no_debt%  debt_%\n",
       "income_groups3                                 \n",
       "145018+            9505   803      92.2     7.8\n",
       "0-145018          10233   937      91.6     8.4"
      ]
     },
     "metadata": {},
     "output_type": "display_data"
    }
   ],
   "source": [
    "#разделим всех клиентов на две равные группы по уровню дохода (используем процентиль 50%)\n",
    "def income_group3(row):\n",
    "    if  row['total_income'] <= 145018:\n",
    "        return '0-145018'\n",
    "    else:\n",
    "        return '145018+'\n",
    "    \n",
    "df_final['income_groups3'] = df.apply(income_group3, axis = 1)\n",
    "\n",
    "#соберем первую вторую таблиу с данными о задолженностях и размере дохода по категориям\n",
    "ti_pivot2 = df_final.pivot_table(index='income_groups3', columns='debt', values='gender', aggfunc='count')\n",
    "ti_pivot2.columns = ['no_debt', 'debt']\n",
    "ti_pivot2['no_debt%'] =round((ti_pivot2['no_debt'] / (ti_pivot2['debt'] + ti_pivot2['no_debt']))*100,1)\n",
    "ti_pivot2['debt_%'] = round((ti_pivot2['debt'] / (ti_pivot2['debt'] + ti_pivot2['no_debt']))*100,1)\n",
    "display(ti_pivot2.head(10).sort_values('debt_%'))"
   ]
  },
  {
   "cell_type": "markdown",
   "metadata": {},
   "source": [
    "Клиенты с высоким (выше 75 процентиль - 92.9%) и низким доходом (ниже 25 процентиль - 92.1%) имеют большую вероятность возвращения кредита в срок. \n",
    "\n",
    "Клиенты с высоким уровнем дохода, скорее всего, имеют больший финансовый потенциал для погашения задолженностей в срок.  Для клиентов с низким доходов высокая степень вероятности возвращения кредита в срок может быть обусловлена низким порогом максимального размера кредита, что позволяет клиентам лучше планировать погашение кредита.\n",
    "\n",
    "Клиенты со средним доходом (диапазон между 25 и 75 процентилями) возвращают кредиты в срок хуже.\n",
    "В целом, показалось, что зависимость между уровнем дохода и возвращением кредита в срок слабая."
   ]
  },
  {
   "cell_type": "markdown",
   "metadata": {},
   "source": [
    "## Влияние целей получения займа на возврат кредита в срок <a id='14'></a>"
   ]
  },
  {
   "cell_type": "code",
   "execution_count": 53,
   "metadata": {},
   "outputs": [
    {
     "data": {
      "text/html": [
       "<div>\n",
       "<style scoped>\n",
       "    .dataframe tbody tr th:only-of-type {\n",
       "        vertical-align: middle;\n",
       "    }\n",
       "\n",
       "    .dataframe tbody tr th {\n",
       "        vertical-align: top;\n",
       "    }\n",
       "\n",
       "    .dataframe thead th {\n",
       "        text-align: right;\n",
       "    }\n",
       "</style>\n",
       "<table border=\"1\" class=\"dataframe\">\n",
       "  <thead>\n",
       "    <tr style=\"text-align: right;\">\n",
       "      <th></th>\n",
       "      <th>no_debt</th>\n",
       "      <th>debt</th>\n",
       "      <th>no_debt%</th>\n",
       "      <th>debt_%</th>\n",
       "    </tr>\n",
       "    <tr>\n",
       "      <th>main_purpose</th>\n",
       "      <th></th>\n",
       "      <th></th>\n",
       "      <th></th>\n",
       "      <th></th>\n",
       "    </tr>\n",
       "  </thead>\n",
       "  <tbody>\n",
       "    <tr>\n",
       "      <td>недвижимость</td>\n",
       "      <td>10034</td>\n",
       "      <td>782</td>\n",
       "      <td>92.8</td>\n",
       "      <td>7.2</td>\n",
       "    </tr>\n",
       "    <tr>\n",
       "      <td>свадьба</td>\n",
       "      <td>2160</td>\n",
       "      <td>186</td>\n",
       "      <td>92.1</td>\n",
       "      <td>7.9</td>\n",
       "    </tr>\n",
       "    <tr>\n",
       "      <td>образование</td>\n",
       "      <td>3642</td>\n",
       "      <td>370</td>\n",
       "      <td>90.8</td>\n",
       "      <td>9.2</td>\n",
       "    </tr>\n",
       "    <tr>\n",
       "      <td>автомобиль</td>\n",
       "      <td>3902</td>\n",
       "      <td>402</td>\n",
       "      <td>90.7</td>\n",
       "      <td>9.3</td>\n",
       "    </tr>\n",
       "  </tbody>\n",
       "</table>\n",
       "</div>"
      ],
      "text/plain": [
       "              no_debt  debt  no_debt%  debt_%\n",
       "main_purpose                                 \n",
       "недвижимость    10034   782      92.8     7.2\n",
       "свадьба          2160   186      92.1     7.9\n",
       "образование      3642   370      90.8     9.2\n",
       "автомобиль       3902   402      90.7     9.3"
      ]
     },
     "metadata": {},
     "output_type": "display_data"
    }
   ],
   "source": [
    "#соберем сводную таблиу с данными о задолженностях и целях оформления кредита\n",
    "p_pivot = df_final.pivot_table(index='main_purpose', columns='debt', values='gender', aggfunc='count')\n",
    "p_pivot.columns = ['no_debt', 'debt']\n",
    "p_pivot['no_debt%'] =round((p_pivot['no_debt'] / (p_pivot['debt'] + p_pivot['no_debt']))*100,1)\n",
    "p_pivot['debt_%'] = round((p_pivot['debt'] / (p_pivot['debt'] + p_pivot['no_debt']))*100,1)\n",
    "display(p_pivot.head(10).sort_values('debt_%'))"
   ]
  },
  {
   "cell_type": "markdown",
   "metadata": {},
   "source": [
    "Наиболее высокая вероятность возвращения кредита в срок у клиентов, которые оформляют его на недвижимость (92.8%) и проведение свадьбы (92.1%).\n",
    "\n",
    "Хуже остальных возвращают в срок кредиты, которые связаны с операциями с автомобилем - 90.7%. Возможно это связано с тем, что автомобиль часто требует дополнительных внеплановых расходов на обслуживание."
   ]
  },
  {
   "cell_type": "markdown",
   "metadata": {},
   "source": [
    "# Общий вывод и рекомендации <a id='14'></a>"
   ]
  },
  {
   "cell_type": "markdown",
   "metadata": {},
   "source": [
    "В ходе обработки данных была проделана работа по поиску и заполнению пропусков, удалению неверно заполненных строк, поиску и удалению дубликатов, лемматизации целей получения кредита, выделению категорий данных по каждому запросу.\n",
    "Смутило, что столбец с общим стажем, хоть он и не оказался нужным, почти весь заполнен отрицательными значениями. Где-то при загрузке/выгрузке данных случилась проблема, которую лучше было бы отловить и отдать в починку.\n",
    "\n",
    "По результатам можно сделать вывод, что  если у клиента нет детей, либо он состоит в официальном браке, либо планирует потратить деньги на операции с недвижимостью, то шанс возвращения кредита высокий.\n",
    "Если же у клиента двое детей (либо больше), либо он не состоит в официальном браке, либо берет кредит на операции с автомобилем, то шанс задолженностям по кредиту возрастает.\n",
    "Самой \"плавающей\" характеристикой является доход клиента. С одной стороны оказывается, что клиенты с низким доходом (до 25 процентили) возвращают кредиты лучше, чем следующие две группы (25-50/50/75 процентили). Однако, если поднять верхний критерий дохода и включить в группу клиентов с более высоким доходом, то ситуация меняется и шанс возвращения кредита уменьшается. Возможно, уровень дохода  нужно смотреть в связке с каким-то другим критерием."
   ]
  },
  {
   "cell_type": "markdown",
   "metadata": {},
   "source": [
    "Зависимости по всем показателям в отдельности не очень сильные. Однако, предположу, что если анализировать каждую анкету как совокупность показателей, то можно будет с большей точностью определять каждого клиента кредитного отдела банка как надежного или ненадежного."
   ]
  }
 ],
 "metadata": {
  "kernelspec": {
   "display_name": "Python 3",
   "language": "python",
   "name": "python3"
  },
  "language_info": {
   "codemirror_mode": {
    "name": "ipython",
    "version": 3
   },
   "file_extension": ".py",
   "mimetype": "text/x-python",
   "name": "python",
   "nbconvert_exporter": "python",
   "pygments_lexer": "ipython3",
   "version": "3.7.8"
  },
  "toc": {
   "base_numbering": 1,
   "nav_menu": {
    "height": "659px",
    "width": "384px"
   },
   "number_sections": false,
   "sideBar": true,
   "skip_h1_title": true,
   "title_cell": "Table of Contents",
   "title_sidebar": "Contents",
   "toc_cell": false,
   "toc_position": {
    "height": "calc(100% - 180px)",
    "left": "10px",
    "top": "150px",
    "width": "307.594px"
   },
   "toc_section_display": false,
   "toc_window_display": false
  }
 },
 "nbformat": 4,
 "nbformat_minor": 2
}
